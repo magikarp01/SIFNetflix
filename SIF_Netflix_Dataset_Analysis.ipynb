{
  "nbformat": 4,
  "nbformat_minor": 0,
  "metadata": {
    "colab": {
      "provenance": [],
      "collapsed_sections": [],
      "mount_file_id": "18GUKGURT-bQTlCemeGGAg7rDUEJc9A4B",
      "authorship_tag": "ABX9TyMPRCOxJmxH7gBBvopae0i8",
      "include_colab_link": true
    },
    "kernelspec": {
      "name": "python3",
      "display_name": "Python 3"
    },
    "language_info": {
      "name": "python"
    }
  },
  "cells": [
    {
      "cell_type": "markdown",
      "metadata": {
        "id": "view-in-github",
        "colab_type": "text"
      },
      "source": [
        "<a href=\"https://colab.research.google.com/github/magikarp01/SIFNetflix/blob/master/SIF_Netflix_Dataset_Analysis.ipynb\" target=\"_parent\"><img src=\"https://colab.research.google.com/assets/colab-badge.svg\" alt=\"Open In Colab\"/></a>"
      ]
    },
    {
      "cell_type": "markdown",
      "source": [
        "A notebook with code for predicting the quality of a movie or series. The notebook uses multiple regression techniques and neural networks in order to handle different kinds of predictive input.\n",
        "\n"
      ],
      "metadata": {
        "id": "x4WjUEjCooQQ"
      }
    },
    {
      "cell_type": "code",
      "execution_count": 1,
      "metadata": {
        "id": "-SW5MmkuoWBW"
      },
      "outputs": [],
      "source": [
        "import numpy as np\n",
        "import pandas as pd\n",
        "import tensorflow as tf\n",
        "import tensorflow_hub as hub\n",
        "import math\n",
        "import scipy\n",
        "from scipy import stats\n",
        "\n",
        "from sklearn.model_selection import train_test_split\n",
        "from sklearn.linear_model import LinearRegression\n",
        "from sklearn.metrics import mean_squared_error, mean_absolute_error\n",
        "from sklearn import preprocessing\n",
        "\n",
        "import statsmodels.api as sm\n",
        "\n",
        "import matplotlib.pyplot as plt\n",
        "from tabulate import tabulate"
      ]
    },
    {
      "cell_type": "code",
      "source": [
        "# read dataset into dataframe\n",
        "df = pd.read_excel(\"Netflix Dataset Latest 2021.xlsx\")"
      ],
      "metadata": {
        "id": "A50SlbX8pfwV"
      },
      "execution_count": 2,
      "outputs": []
    },
    {
      "cell_type": "code",
      "source": [
        "# stratify data by movie or series, since they are judged very differently\n",
        "# reset index because want the indices to be in order, not skipping around\n",
        "movie_dataframe = df[df[\"Series or Movie\"] == \"Movie\"].reset_index()\n",
        "series_dataframe = df[df[\"Series or Movie\"] == \"Series\"].reset_index()"
      ],
      "metadata": {
        "id": "7safIHyLrsXM"
      },
      "execution_count": 3,
      "outputs": []
    },
    {
      "cell_type": "markdown",
      "source": [
        "First, a multiple regression between the genres a movie/series is part of and the IMDb score"
      ],
      "metadata": {
        "id": "r36_5fSdtEdp"
      }
    },
    {
      "cell_type": "code",
      "source": [
        "# functional because want to be able to work with either movie_dataframe or series_dataframe\n",
        "# returns x_data, y_data\n",
        "# x_data is 2d np array of whether each movie/series has a particular genre\n",
        "# y_data is 1d np array of imdb reviews\n",
        "def preprocess_genre_regression(dataframe):\n",
        "  genre_column = dataframe[\"Genre\"]\n",
        "  imdb_column = dataframe[\"IMDb Score\"]\n",
        "  # a list of the (string) genres\n",
        "  genre_list = []\n",
        "\n",
        "  # a list of imdb reviews for each entry\n",
        "  imdb_reviews = []\n",
        "\n",
        "  # a list of the genres for each entry\n",
        "  genre_data = []\n",
        "  \n",
        "  # process data to handle empty/bad rows\n",
        "  for i in range(len(genre_column)):\n",
        "    genre_cell = genre_column[i]\n",
        "    if not pd.isnull(genre_cell) and not pd.isnull(imdb_column[i]):\n",
        "        try:\n",
        "            cell_genres = genre_cell.split(\", \")\n",
        "            genre_data.append(cell_genres)\n",
        "            imdb_reviews.append(imdb_column[i])\n",
        "        except AttributeError:\n",
        "            continue\n",
        "\n",
        "        for genre in cell_genres:\n",
        "            if genre not in genre_list:\n",
        "                genre_list.append(genre)\n",
        "\n",
        "  # print(genre_list)\n",
        "  genredict = {k: v for v, k in enumerate(genre_list)}\n",
        "\n",
        "  # x_data is a 2d array, each row is an array of binary entries\n",
        "  # each binary entry corresponds to if movie/series is part of a genre \n",
        "  # 0 if no and 1 if yes\n",
        "  x_data = []\n",
        "  for entry in genre_data:\n",
        "      entry_genres = [0]*len(genre_list)\n",
        "      for genre in entry:\n",
        "          entry_genres[genredict[genre]] = 1\n",
        "      x_data.append(entry_genres)\n",
        "  x_data = np.array(x_data)\n",
        "  y_data = np.array(imdb_reviews)/10\n",
        "\n",
        "  return x_data, y_data, genre_list\n"
      ],
      "metadata": {
        "id": "Clu_zcZwsqJW"
      },
      "execution_count": 4,
      "outputs": []
    },
    {
      "cell_type": "code",
      "source": [
        "# Perform the multiple regression on the processed data from previous function\n",
        "def train_genre_regression(x_data, y_data, test_size=0.2, random_state=101, print_output = False):\n",
        "  X_train, X_test, y_train, y_test = train_test_split(\n",
        "    x_data, y_data, test_size=test_size, random_state=random_state)\n",
        "\n",
        "  # creating a regression model\n",
        "  model = LinearRegression()\n",
        "\n",
        "  # fitting the model\n",
        "  model.fit(X_train, y_train)\n",
        "\n",
        "  # making predictions\n",
        "  predictions = model.predict(X_test)\n",
        "\n",
        "  # model evaluation\n",
        "  print('mean_squared_error : ', mean_squared_error(y_test, predictions))\n",
        "  # print('mean_absolute_error : ', mean_absolute_error(y_test, predictions))\n",
        "  print(f'model R^2: {model.score(X_test, y_test)}')\n",
        "  # print(f'model coefficients: {model.coef_}')\n",
        "\n",
        "  if print_output:\n",
        "      for i in range(len(y_test)):\n",
        "        print(f\"predicts {predictions[i]}, actual review is {y_test[i]}\")\n",
        "\n",
        "  return model\n",
        "\n",
        "def model_output(model, genre_list):\n",
        "  # print(model.summary) \n",
        "  # coef_dic = dict(zip(genre_list, model.coef_))\n",
        "  print(tabulate(zip([\"Genre\"] + genre_list, [\"Coefficient\"] + list(model.coef_)), \n",
        "                 headers=\"firstrow\"))\n",
        "  # for k, v in coef_dic.items():\n",
        "  #     print(f\"For genre {k}, the coefficient is {v}\") "
      ],
      "metadata": {
        "id": "EA1oGB2lv8ox"
      },
      "execution_count": 5,
      "outputs": []
    },
    {
      "cell_type": "code",
      "source": [
        "# put it all together\n",
        "def genre_regression(dataframe, verbose=False):\n",
        "  x_data, y_data, genre_list = preprocess_genre_regression(dataframe)\n",
        "  model = train_genre_regression(x_data, y_data)\n",
        "  if verbose:\n",
        "    print()\n",
        "    model_output(model, genre_list)\n",
        "  return model\n",
        "\n",
        "genre_regression(movie_dataframe, verbose=True)\n",
        "# genre_regression(series_dataframe)"
      ],
      "metadata": {
        "colab": {
          "base_uri": "https://localhost:8080/"
        },
        "id": "WJF7xXlJwf8m",
        "outputId": "9b9ec71d-4fa1-4570-9d27-65227b7424cb"
      },
      "execution_count": 6,
      "outputs": [
        {
          "output_type": "stream",
          "name": "stdout",
          "text": [
            "mean_squared_error :  0.006606608489484805\n",
            "model R^2: 0.16982544975353442\n",
            "\n",
            "Genre          Coefficient\n",
            "-----------  -------------\n",
            "Comedy        -0.0160216\n",
            "Romance       -0.0126316\n",
            "Drama          0.0242095\n",
            "Crime          0.00948914\n",
            "Fantasy       -0.000943876\n",
            "Mystery        0.00364022\n",
            "Thriller      -0.026328\n",
            "Short          0.0323382\n",
            "Action        -0.0168781\n",
            "Adventure     -0.00517074\n",
            "Sci-Fi        -0.00447805\n",
            "Music         -0.00169727\n",
            "Family        -0.0403017\n",
            "Biography      0.00503447\n",
            "Animation      0.0618854\n",
            "War            0.0170508\n",
            "History        0.000644859\n",
            "Documentary    0.0512148\n",
            "Horror        -0.0536533\n",
            "Film-Noir     -0.0156681\n",
            "Sport         -0.00701321\n",
            "Western        0.0184687\n",
            "Musical        0.00480804\n",
            "Reality-TV     0.0367026\n",
            "Adult          0.0743342\n",
            "News           0.0211864\n",
            "Talk-Show      0.0467816\n"
          ]
        },
        {
          "output_type": "execute_result",
          "data": {
            "text/plain": [
              "LinearRegression()"
            ]
          },
          "metadata": {},
          "execution_count": 6
        }
      ]
    },
    {
      "cell_type": "code",
      "source": [
        "# finding the p-values of each coefficient\n",
        "# shamelessly copied from https://stackoverflow.com/questions/27928275/find-p-value-significance-in-scikit-learn-linearregression\n",
        "def show_genre_regression_results(dataframe, verbose=False):\n",
        "  X, y, genre_list = preprocess_genre_regression(dataframe)\n",
        "  lm = genre_regression(dataframe)\n",
        "  params = np.append(lm.intercept_,lm.coef_)\n",
        "  predictions = lm.predict(X)\n",
        "\n",
        "  newX = pd.DataFrame({\"Constant\":np.ones(len(X))}).join(pd.DataFrame(X))\n",
        "  MSE = (sum((y-predictions)**2))/(len(newX)-len(newX.columns))\n",
        "\n",
        "  # Note if you don't want to use a DataFrame replace the two lines above with\n",
        "  # newX = np.append(np.ones((len(X),1)), X, axis=1)\n",
        "  # MSE = (sum((y-predictions)**2))/(len(newX)-len(newX[0]))\n",
        "\n",
        "  var_b = MSE*(np.linalg.inv(np.dot(newX.T,newX)).diagonal())\n",
        "  sd_b = np.sqrt(var_b)\n",
        "  ts_b = params/ sd_b\n",
        "\n",
        "  # p_values =[2*(1-stats.t.cdf(np.abs(i),(len(newX)-len(newX[0])))) for i in ts_b]\n",
        "  p_values =[2*(1-stats.t.cdf(np.abs(i),len(newX))) for i in ts_b]\n",
        "\n",
        "  sd_b = np.round(sd_b,3)\n",
        "  ts_b = np.round(ts_b,3)\n",
        "  p_values = np.round(p_values,3)\n",
        "  params = np.round(params,4)\n",
        "\n",
        "  genre_list.insert(0, \"Constant (not genre)\")\n",
        "  myDF3 = pd.DataFrame()\n",
        "  # myDF3[\"Genre\"], myDF3[\"Coefficients\"],myDF3[\"Standard Errors\"],myDF3[\"t values\"],myDF3[\"p values\"] = [genre_list,params,sd_b,ts_b,p_values]\n",
        "  myDF3[\"Genre\"], myDF3[\"Coefficients\"],myDF3[\"t values\"],myDF3[\"p values\"] = [genre_list,params*10,ts_b,p_values]\n",
        "  return myDF3\n",
        "  # if verbose:\n",
        "  #   print(myDF3)\n",
        "  # return params,sd_b,ts_b,p_values, genre_list"
      ],
      "metadata": {
        "id": "Ji9-lPCuwXLQ"
      },
      "execution_count": 7,
      "outputs": []
    },
    {
      "cell_type": "markdown",
      "source": [
        "Results of Genre Multiple Regression: which genres are statistically significant, and what correlation do the significant genres have on the predicted IMDb review?\n",
        "\n",
        "Alpha of .05 used for statistical significance"
      ],
      "metadata": {
        "id": "DAY_AR_r0TkP"
      }
    },
    {
      "cell_type": "code",
      "source": [
        "from scipy.integrate._ivp.radau import P\n",
        "regression_dataframe = show_genre_regression_results(series_dataframe, verbose=True)\n",
        "# print(list(regression_dataframe[\"Genres\"]))\n",
        "# params,sd_b,ts_b,p_values, genre_list = show_genre_regression_results(movie_dataframe, verbose=True)\n",
        "alpha = .05\n",
        "def bold_style(val):\n",
        "    f = \"font-weight: bold\" \n",
        "    #condition\n",
        "    m = val[\"p values\"] <= .05\n",
        "    # DataFrame of styles\n",
        "    df1 = pd.DataFrame('', index=val.index, columns=val.columns)\n",
        "    # set columns by condition\n",
        "    df1 = df1.mask(m, f)\n",
        "    return df1\n",
        "\n",
        "bolded_rows = []\n",
        "for i in range(len(regression_dataframe[\"p values\"])):\n",
        "  if regression_dataframe[\"p values\"][i] <= .05:\n",
        "    bolded_rows.append(i)\n",
        "\n",
        "print()\n",
        "\n",
        "regression_dataframe.style.apply(bold_style, axis=None)\n",
        "\n",
        "display(regression_dataframe)\n",
        "\n",
        "print()\n",
        "p_values = regression_dataframe[\"p values\"]\n",
        "genre_list = regression_dataframe[\"Genre\"]\n",
        "ts_b = regression_dataframe[\"t values\"]\n",
        "params = regression_dataframe[\"Coefficients\"]\n",
        "for i in range(1, len(p_values)):\n",
        "  if p_values[i] < alpha:\n",
        "    print(f\"Genre {genre_list[i-1]} is statistically significant at t-score of {ts_b[i]}. \" + \n",
        "          f\"It's presence corresponds to a {params[i]*10} change in predicted IMDb review.\")"
      ],
      "metadata": {
        "colab": {
          "base_uri": "https://localhost:8080/",
          "height": 1000
        },
        "id": "AGWIBtDq0y0S",
        "outputId": "d8752bde-e0e7-41e1-bb03-93b358f576e6"
      },
      "execution_count": 8,
      "outputs": [
        {
          "output_type": "stream",
          "name": "stdout",
          "text": [
            "mean_squared_error :  0.004735727235507379\n",
            "model R^2: 0.009452705122505733\n",
            "\n"
          ]
        },
        {
          "output_type": "display_data",
          "data": {
            "text/plain": [
              "                   Genre  Coefficients  t values  p values\n",
              "0   Constant (not genre)         7.304   207.060     0.000\n",
              "1                  Crime         0.069     1.636     0.102\n",
              "2                  Drama         0.207     6.456     0.000\n",
              "3                Fantasy         0.109     2.584     0.010\n",
              "4                 Horror        -0.231    -3.690     0.000\n",
              "5                Romance         0.032     0.858     0.391\n",
              "6              Animation         0.087     2.190     0.029\n",
              "7                 Action        -0.001    -0.029     0.977\n",
              "8                 Comedy         0.161     5.033     0.000\n",
              "9                 Sci-Fi         0.025     0.516     0.606\n",
              "10               History         0.215     3.080     0.002\n",
              "11                   War         0.127     1.175     0.240\n",
              "12             Adventure         0.029     0.614     0.539\n",
              "13                 Short        -0.078    -0.828     0.408\n",
              "14                Family        -0.154    -3.055     0.002\n",
              "15             Game-Show        -0.023    -0.179     0.858\n",
              "16             Biography         0.145     1.474     0.141\n",
              "17               Mystery         0.122     2.550     0.011\n",
              "18              Thriller        -0.080    -1.694     0.090\n",
              "19           Documentary         0.256     4.863     0.000\n",
              "20                 Sport         0.088     0.979     0.328\n",
              "21                 Music        -0.004    -0.040     0.968\n",
              "22            Reality-TV        -0.044    -0.585     0.559\n",
              "23               Musical        -0.097    -0.791     0.429\n",
              "24                  News        -0.462    -1.142     0.253\n",
              "25             Talk-Show         0.653     3.582     0.000\n",
              "26               Western        -0.084    -0.416     0.678\n",
              "27                 Adult        -0.504    -1.067     0.286"
            ],
            "text/html": [
              "\n",
              "  <div id=\"df-2be94dea-6993-4936-bd5c-7eb0e5662271\">\n",
              "    <div class=\"colab-df-container\">\n",
              "      <div>\n",
              "<style scoped>\n",
              "    .dataframe tbody tr th:only-of-type {\n",
              "        vertical-align: middle;\n",
              "    }\n",
              "\n",
              "    .dataframe tbody tr th {\n",
              "        vertical-align: top;\n",
              "    }\n",
              "\n",
              "    .dataframe thead th {\n",
              "        text-align: right;\n",
              "    }\n",
              "</style>\n",
              "<table border=\"1\" class=\"dataframe\">\n",
              "  <thead>\n",
              "    <tr style=\"text-align: right;\">\n",
              "      <th></th>\n",
              "      <th>Genre</th>\n",
              "      <th>Coefficients</th>\n",
              "      <th>t values</th>\n",
              "      <th>p values</th>\n",
              "    </tr>\n",
              "  </thead>\n",
              "  <tbody>\n",
              "    <tr>\n",
              "      <th>0</th>\n",
              "      <td>Constant (not genre)</td>\n",
              "      <td>7.304</td>\n",
              "      <td>207.060</td>\n",
              "      <td>0.000</td>\n",
              "    </tr>\n",
              "    <tr>\n",
              "      <th>1</th>\n",
              "      <td>Crime</td>\n",
              "      <td>0.069</td>\n",
              "      <td>1.636</td>\n",
              "      <td>0.102</td>\n",
              "    </tr>\n",
              "    <tr>\n",
              "      <th>2</th>\n",
              "      <td>Drama</td>\n",
              "      <td>0.207</td>\n",
              "      <td>6.456</td>\n",
              "      <td>0.000</td>\n",
              "    </tr>\n",
              "    <tr>\n",
              "      <th>3</th>\n",
              "      <td>Fantasy</td>\n",
              "      <td>0.109</td>\n",
              "      <td>2.584</td>\n",
              "      <td>0.010</td>\n",
              "    </tr>\n",
              "    <tr>\n",
              "      <th>4</th>\n",
              "      <td>Horror</td>\n",
              "      <td>-0.231</td>\n",
              "      <td>-3.690</td>\n",
              "      <td>0.000</td>\n",
              "    </tr>\n",
              "    <tr>\n",
              "      <th>5</th>\n",
              "      <td>Romance</td>\n",
              "      <td>0.032</td>\n",
              "      <td>0.858</td>\n",
              "      <td>0.391</td>\n",
              "    </tr>\n",
              "    <tr>\n",
              "      <th>6</th>\n",
              "      <td>Animation</td>\n",
              "      <td>0.087</td>\n",
              "      <td>2.190</td>\n",
              "      <td>0.029</td>\n",
              "    </tr>\n",
              "    <tr>\n",
              "      <th>7</th>\n",
              "      <td>Action</td>\n",
              "      <td>-0.001</td>\n",
              "      <td>-0.029</td>\n",
              "      <td>0.977</td>\n",
              "    </tr>\n",
              "    <tr>\n",
              "      <th>8</th>\n",
              "      <td>Comedy</td>\n",
              "      <td>0.161</td>\n",
              "      <td>5.033</td>\n",
              "      <td>0.000</td>\n",
              "    </tr>\n",
              "    <tr>\n",
              "      <th>9</th>\n",
              "      <td>Sci-Fi</td>\n",
              "      <td>0.025</td>\n",
              "      <td>0.516</td>\n",
              "      <td>0.606</td>\n",
              "    </tr>\n",
              "    <tr>\n",
              "      <th>10</th>\n",
              "      <td>History</td>\n",
              "      <td>0.215</td>\n",
              "      <td>3.080</td>\n",
              "      <td>0.002</td>\n",
              "    </tr>\n",
              "    <tr>\n",
              "      <th>11</th>\n",
              "      <td>War</td>\n",
              "      <td>0.127</td>\n",
              "      <td>1.175</td>\n",
              "      <td>0.240</td>\n",
              "    </tr>\n",
              "    <tr>\n",
              "      <th>12</th>\n",
              "      <td>Adventure</td>\n",
              "      <td>0.029</td>\n",
              "      <td>0.614</td>\n",
              "      <td>0.539</td>\n",
              "    </tr>\n",
              "    <tr>\n",
              "      <th>13</th>\n",
              "      <td>Short</td>\n",
              "      <td>-0.078</td>\n",
              "      <td>-0.828</td>\n",
              "      <td>0.408</td>\n",
              "    </tr>\n",
              "    <tr>\n",
              "      <th>14</th>\n",
              "      <td>Family</td>\n",
              "      <td>-0.154</td>\n",
              "      <td>-3.055</td>\n",
              "      <td>0.002</td>\n",
              "    </tr>\n",
              "    <tr>\n",
              "      <th>15</th>\n",
              "      <td>Game-Show</td>\n",
              "      <td>-0.023</td>\n",
              "      <td>-0.179</td>\n",
              "      <td>0.858</td>\n",
              "    </tr>\n",
              "    <tr>\n",
              "      <th>16</th>\n",
              "      <td>Biography</td>\n",
              "      <td>0.145</td>\n",
              "      <td>1.474</td>\n",
              "      <td>0.141</td>\n",
              "    </tr>\n",
              "    <tr>\n",
              "      <th>17</th>\n",
              "      <td>Mystery</td>\n",
              "      <td>0.122</td>\n",
              "      <td>2.550</td>\n",
              "      <td>0.011</td>\n",
              "    </tr>\n",
              "    <tr>\n",
              "      <th>18</th>\n",
              "      <td>Thriller</td>\n",
              "      <td>-0.080</td>\n",
              "      <td>-1.694</td>\n",
              "      <td>0.090</td>\n",
              "    </tr>\n",
              "    <tr>\n",
              "      <th>19</th>\n",
              "      <td>Documentary</td>\n",
              "      <td>0.256</td>\n",
              "      <td>4.863</td>\n",
              "      <td>0.000</td>\n",
              "    </tr>\n",
              "    <tr>\n",
              "      <th>20</th>\n",
              "      <td>Sport</td>\n",
              "      <td>0.088</td>\n",
              "      <td>0.979</td>\n",
              "      <td>0.328</td>\n",
              "    </tr>\n",
              "    <tr>\n",
              "      <th>21</th>\n",
              "      <td>Music</td>\n",
              "      <td>-0.004</td>\n",
              "      <td>-0.040</td>\n",
              "      <td>0.968</td>\n",
              "    </tr>\n",
              "    <tr>\n",
              "      <th>22</th>\n",
              "      <td>Reality-TV</td>\n",
              "      <td>-0.044</td>\n",
              "      <td>-0.585</td>\n",
              "      <td>0.559</td>\n",
              "    </tr>\n",
              "    <tr>\n",
              "      <th>23</th>\n",
              "      <td>Musical</td>\n",
              "      <td>-0.097</td>\n",
              "      <td>-0.791</td>\n",
              "      <td>0.429</td>\n",
              "    </tr>\n",
              "    <tr>\n",
              "      <th>24</th>\n",
              "      <td>News</td>\n",
              "      <td>-0.462</td>\n",
              "      <td>-1.142</td>\n",
              "      <td>0.253</td>\n",
              "    </tr>\n",
              "    <tr>\n",
              "      <th>25</th>\n",
              "      <td>Talk-Show</td>\n",
              "      <td>0.653</td>\n",
              "      <td>3.582</td>\n",
              "      <td>0.000</td>\n",
              "    </tr>\n",
              "    <tr>\n",
              "      <th>26</th>\n",
              "      <td>Western</td>\n",
              "      <td>-0.084</td>\n",
              "      <td>-0.416</td>\n",
              "      <td>0.678</td>\n",
              "    </tr>\n",
              "    <tr>\n",
              "      <th>27</th>\n",
              "      <td>Adult</td>\n",
              "      <td>-0.504</td>\n",
              "      <td>-1.067</td>\n",
              "      <td>0.286</td>\n",
              "    </tr>\n",
              "  </tbody>\n",
              "</table>\n",
              "</div>\n",
              "      <button class=\"colab-df-convert\" onclick=\"convertToInteractive('df-2be94dea-6993-4936-bd5c-7eb0e5662271')\"\n",
              "              title=\"Convert this dataframe to an interactive table.\"\n",
              "              style=\"display:none;\">\n",
              "        \n",
              "  <svg xmlns=\"http://www.w3.org/2000/svg\" height=\"24px\"viewBox=\"0 0 24 24\"\n",
              "       width=\"24px\">\n",
              "    <path d=\"M0 0h24v24H0V0z\" fill=\"none\"/>\n",
              "    <path d=\"M18.56 5.44l.94 2.06.94-2.06 2.06-.94-2.06-.94-.94-2.06-.94 2.06-2.06.94zm-11 1L8.5 8.5l.94-2.06 2.06-.94-2.06-.94L8.5 2.5l-.94 2.06-2.06.94zm10 10l.94 2.06.94-2.06 2.06-.94-2.06-.94-.94-2.06-.94 2.06-2.06.94z\"/><path d=\"M17.41 7.96l-1.37-1.37c-.4-.4-.92-.59-1.43-.59-.52 0-1.04.2-1.43.59L10.3 9.45l-7.72 7.72c-.78.78-.78 2.05 0 2.83L4 21.41c.39.39.9.59 1.41.59.51 0 1.02-.2 1.41-.59l7.78-7.78 2.81-2.81c.8-.78.8-2.07 0-2.86zM5.41 20L4 18.59l7.72-7.72 1.47 1.35L5.41 20z\"/>\n",
              "  </svg>\n",
              "      </button>\n",
              "      \n",
              "  <style>\n",
              "    .colab-df-container {\n",
              "      display:flex;\n",
              "      flex-wrap:wrap;\n",
              "      gap: 12px;\n",
              "    }\n",
              "\n",
              "    .colab-df-convert {\n",
              "      background-color: #E8F0FE;\n",
              "      border: none;\n",
              "      border-radius: 50%;\n",
              "      cursor: pointer;\n",
              "      display: none;\n",
              "      fill: #1967D2;\n",
              "      height: 32px;\n",
              "      padding: 0 0 0 0;\n",
              "      width: 32px;\n",
              "    }\n",
              "\n",
              "    .colab-df-convert:hover {\n",
              "      background-color: #E2EBFA;\n",
              "      box-shadow: 0px 1px 2px rgba(60, 64, 67, 0.3), 0px 1px 3px 1px rgba(60, 64, 67, 0.15);\n",
              "      fill: #174EA6;\n",
              "    }\n",
              "\n",
              "    [theme=dark] .colab-df-convert {\n",
              "      background-color: #3B4455;\n",
              "      fill: #D2E3FC;\n",
              "    }\n",
              "\n",
              "    [theme=dark] .colab-df-convert:hover {\n",
              "      background-color: #434B5C;\n",
              "      box-shadow: 0px 1px 3px 1px rgba(0, 0, 0, 0.15);\n",
              "      filter: drop-shadow(0px 1px 2px rgba(0, 0, 0, 0.3));\n",
              "      fill: #FFFFFF;\n",
              "    }\n",
              "  </style>\n",
              "\n",
              "      <script>\n",
              "        const buttonEl =\n",
              "          document.querySelector('#df-2be94dea-6993-4936-bd5c-7eb0e5662271 button.colab-df-convert');\n",
              "        buttonEl.style.display =\n",
              "          google.colab.kernel.accessAllowed ? 'block' : 'none';\n",
              "\n",
              "        async function convertToInteractive(key) {\n",
              "          const element = document.querySelector('#df-2be94dea-6993-4936-bd5c-7eb0e5662271');\n",
              "          const dataTable =\n",
              "            await google.colab.kernel.invokeFunction('convertToInteractive',\n",
              "                                                     [key], {});\n",
              "          if (!dataTable) return;\n",
              "\n",
              "          const docLinkHtml = 'Like what you see? Visit the ' +\n",
              "            '<a target=\"_blank\" href=https://colab.research.google.com/notebooks/data_table.ipynb>data table notebook</a>'\n",
              "            + ' to learn more about interactive tables.';\n",
              "          element.innerHTML = '';\n",
              "          dataTable['output_type'] = 'display_data';\n",
              "          await google.colab.output.renderOutput(dataTable, element);\n",
              "          const docLink = document.createElement('div');\n",
              "          docLink.innerHTML = docLinkHtml;\n",
              "          element.appendChild(docLink);\n",
              "        }\n",
              "      </script>\n",
              "    </div>\n",
              "  </div>\n",
              "  "
            ]
          },
          "metadata": {}
        },
        {
          "output_type": "stream",
          "name": "stdout",
          "text": [
            "\n",
            "Genre Crime is statistically significant at t-score of 6.456. It's presence corresponds to a 2.07 change in predicted IMDb review.\n",
            "Genre Drama is statistically significant at t-score of 2.584. It's presence corresponds to a 1.09 change in predicted IMDb review.\n",
            "Genre Fantasy is statistically significant at t-score of -3.69. It's presence corresponds to a -2.3099999999999996 change in predicted IMDb review.\n",
            "Genre Romance is statistically significant at t-score of 2.19. It's presence corresponds to a 0.8699999999999999 change in predicted IMDb review.\n",
            "Genre Action is statistically significant at t-score of 5.033. It's presence corresponds to a 1.61 change in predicted IMDb review.\n",
            "Genre Sci-Fi is statistically significant at t-score of 3.08. It's presence corresponds to a 2.1499999999999995 change in predicted IMDb review.\n",
            "Genre Short is statistically significant at t-score of -3.055. It's presence corresponds to a -1.54 change in predicted IMDb review.\n",
            "Genre Biography is statistically significant at t-score of 2.55. It's presence corresponds to a 1.2200000000000002 change in predicted IMDb review.\n",
            "Genre Thriller is statistically significant at t-score of 4.863. It's presence corresponds to a 2.56 change in predicted IMDb review.\n",
            "Genre News is statistically significant at t-score of 3.582. It's presence corresponds to a 6.53 change in predicted IMDb review.\n"
          ]
        }
      ]
    },
    {
      "cell_type": "code",
      "source": [
        "# find which genre is unique\n",
        "\n",
        "movie_genre_list = ['Constant (not genre)', 'Comedy', 'Romance', 'Drama', 'Crime', 'Fantasy', 'Mystery', 'Thriller', 'Short', 'Action', 'Adventure', 'Sci-Fi', 'Music', 'Family', 'Biography', 'Animation', 'War', 'History', 'Documentary', 'Horror', 'Film-Noir', 'Sport', 'Western', 'Musical', 'Reality-TV', 'Adult', 'News', 'Talk-Show']\n",
        "series_genre_list = ['Constant (not genre)', 'Crime', 'Drama', 'Fantasy', 'Horror', 'Romance', 'Animation', 'Action', 'Comedy', 'Sci-Fi', 'History', 'War', 'Adventure', 'Short', 'Family', 'Game-Show', 'Biography', 'Mystery', 'Thriller', 'Documentary', 'Sport', 'Music', 'Reality-TV', 'Musical', 'News', 'Talk-Show', 'Western', 'Adult']\n",
        "\n",
        "print(list(set(movie_genre_list) - set(series_genre_list)))\n",
        "print(list(set(series_genre_list) - set(movie_genre_list)))"
      ],
      "metadata": {
        "colab": {
          "base_uri": "https://localhost:8080/"
        },
        "id": "U8LHbOGwLC8F",
        "outputId": "45797953-3e31-488e-98af-37d1d71a86ea"
      },
      "execution_count": 9,
      "outputs": [
        {
          "output_type": "stream",
          "name": "stdout",
          "text": [
            "['Film-Noir']\n",
            "['Game-Show']\n"
          ]
        }
      ]
    },
    {
      "cell_type": "markdown",
      "source": [
        "Another model, determining whether runtime has an affect on the quality of the movie"
      ],
      "metadata": {
        "id": "yPCmu4I341Ia"
      }
    },
    {
      "cell_type": "code",
      "source": [
        "runtime_names = [\"< 30 minutes\", \"30-60 mins\", \"1-2 hour\", \"> 2 hrs\"]\n",
        "\n",
        "# split reviews into four lists, depending on runtime length\n",
        "def runtime_stratification(dataframe):\n",
        "  runtime_column = dataframe[\"Runtime\"]\n",
        "  imdb_column = dataframe[\"IMDb Score\"]\n",
        "  \n",
        "  # runtime_data is list of 4 arrays, each array has all imdb reviews for one runtime\n",
        "  # 0 corresponding to <30 mins, 1 for 30-60 mins, 2 for 1-2 hour, 3 for > 2 hrs\n",
        "\n",
        "  runtime_data = [[], [], [], []]\n",
        "  # possible values in the runtime cell\n",
        "  possible_runtimes = {\"< 30 minutes\": 0, \"30-60 mins\": 1, \"1-2 hour\": 2, \"> 2 hrs\": 3}\n",
        "  # process data to handle empty/bad rows\n",
        "  for i in range(len(runtime_column)):\n",
        "    runtime_cell = runtime_column[i]\n",
        "    if not pd.isnull(runtime_cell) and not pd.isnull(imdb_column[i]):\n",
        "        try:\n",
        "            runtime_data[possible_runtimes[runtime_cell]].append(imdb_column[i])\n",
        "        except AttributeError:\n",
        "            continue\n",
        "\n",
        "  for i in range(4):\n",
        "    runtime_data[i] = [x for x in runtime_data[i] if np.isnan(x) == False]\n",
        "\n",
        "  for i in range(4):\n",
        "    if len(runtime_data[i]) == 0:\n",
        "      print(f\"No entries have runtime {runtime_names[i]}\")\n",
        "    else:\n",
        "      print(f\"For runtime {runtime_names[i]}, average IMDb score is {np.average(runtime_data[i])}, \" +\n",
        "            f\"variance in IMDb score is {np.var(runtime_data[i])}\")\n",
        "\n",
        "  return runtime_data\n",
        "\n",
        "\n",
        "colors = [\"blue\", \"red\", \"orange\", \"green\"]\n",
        "# making histograms for each runtime category\n",
        "def display_runtime_graphs(runtime_data, axis_range=(0, 10)):\n",
        "  fig, axs = plt.subplots(2, 2)\n",
        "  fig.suptitle(\"Histograms for IMDb Scores for Different Runtimes\")\n",
        "  plt.subplots_adjust(wspace=.5, hspace=.8)\n",
        "  # fig.tight_layout()\n",
        "  for i in range(2):\n",
        "    for j in range(2):\n",
        "      runtime_index = 2*i + j\n",
        "      axs[i, j].hist(runtime_data[runtime_index], range=axis_range, color=colors[runtime_index])\n",
        "      axs[i, j].set_title(runtime_names[runtime_index])\n",
        "      axs[i,j].set(xlabel=\"IMDb Score\")\n",
        "  plt.show()\n",
        "\n",
        "# overlaying histograms\n",
        "def overlap_runtime_histograms(runtime_data, axis_range=(0, 10)):\n",
        "  plt.hist(runtime_data, density=True, range=axis_range, color=colors)\n",
        "  plt.legend(runtime_names)\n",
        "  plt.title(\"Overlapped Histogram of IMDb Reviews for each Runtime\")\n",
        "  plt.xlabel(\"IMDb Score\")\n",
        "  plt.show()"
      ],
      "metadata": {
        "id": "KWqVZH7A40Ll"
      },
      "execution_count": 10,
      "outputs": []
    },
    {
      "cell_type": "code",
      "source": [
        "print(\"Movies:\")\n",
        "movie_runtimes = runtime_stratification(movie_dataframe)\n",
        "print()\n",
        "print(\"Series:\")\n",
        "nan_runtime = runtime_stratification(series_dataframe)"
      ],
      "metadata": {
        "colab": {
          "base_uri": "https://localhost:8080/"
        },
        "id": "okZA7r0KGgio",
        "outputId": "0234ae5a-7408-4eed-cd27-b07ee3125792"
      },
      "execution_count": 11,
      "outputs": [
        {
          "output_type": "stream",
          "name": "stdout",
          "text": [
            "Movies:\n",
            "For runtime < 30 minutes, average IMDb score is 7.076344086021504, variance in IMDb score is 0.46417158052954105\n",
            "For runtime 30-60 mins, average IMDb score is 7.133088235294117, variance in IMDb score is 0.3467728157439447\n",
            "For runtime 1-2 hour, average IMDb score is 6.632261768082665, variance in IMDb score is 0.7887142491200274\n",
            "For runtime > 2 hrs, average IMDb score is 7.1072398190045245, variance in IMDb score is 0.5618221810130247\n",
            "\n",
            "Series:\n",
            "For runtime < 30 minutes, average IMDb score is 7.543082021541011, variance in IMDb score is 0.4634711970835687\n",
            "No entries have runtime 30-60 mins\n",
            "No entries have runtime 1-2 hour\n",
            "No entries have runtime > 2 hrs\n"
          ]
        }
      ]
    },
    {
      "cell_type": "markdown",
      "source": [
        "We can illustrate our results with some histograms."
      ],
      "metadata": {
        "id": "umL78rnSd350"
      }
    },
    {
      "cell_type": "code",
      "source": [
        "plt. clf()\n",
        "# show graphs\n",
        "display_runtime_graphs(movie_runtimes, axis_range=(0, 10))"
      ],
      "metadata": {
        "colab": {
          "base_uri": "https://localhost:8080/",
          "height": 325
        },
        "id": "MlA4FhuIcIyW",
        "outputId": "f0b56d81-ee58-48a1-c976-b69d9a73950a"
      },
      "execution_count": 12,
      "outputs": [
        {
          "output_type": "display_data",
          "data": {
            "text/plain": [
              "<Figure size 432x288 with 0 Axes>"
            ]
          },
          "metadata": {}
        },
        {
          "output_type": "display_data",
          "data": {
            "text/plain": [
              "<Figure size 432x288 with 4 Axes>"
            ],
            "image/png": "[encoded data removed]"
          },
          "metadata": {
            "needs_background": "light"
          }
        }
      ]
    },
    {
      "cell_type": "code",
      "source": [
        "overlap_runtime_histograms(movie_runtimes, axis_range=(0, 10))"
      ],
      "metadata": {
        "colab": {
          "base_uri": "https://localhost:8080/",
          "height": 384
        },
        "id": "WF3XlbethtY4",
        "outputId": "498e6000-a307-4364-a99a-51dc8b35b64e"
      },
      "execution_count": 13,
      "outputs": [
        {
          "output_type": "stream",
          "name": "stderr",
          "text": [
            "/usr/local/lib/python3.7/dist-packages/numpy/core/fromnumeric.py:3208: VisibleDeprecationWarning: Creating an ndarray from ragged nested sequences (which is a list-or-tuple of lists-or-tuples-or ndarrays with different lengths or shapes) is deprecated. If you meant to do this, you must specify 'dtype=object' when creating the ndarray.\n",
            "  return asarray(a).size\n",
            "/usr/local/lib/python3.7/dist-packages/matplotlib/cbook/__init__.py:1376: VisibleDeprecationWarning: Creating an ndarray from ragged nested sequences (which is a list-or-tuple of lists-or-tuples-or ndarrays with different lengths or shapes) is deprecated. If you meant to do this, you must specify 'dtype=object' when creating the ndarray.\n",
            "  X = np.atleast_1d(X.T if isinstance(X, np.ndarray) else np.asarray(X))\n"
          ]
        },
        {
          "output_type": "display_data",
          "data": {
            "text/plain": [
              "<Figure size 432x288 with 1 Axes>"
            ],
            "image/png": "[encoded data removed]"
          },
          "metadata": {
            "needs_background": "light"
          }
        }
      ]
    },
    {
      "cell_type": "markdown",
      "source": [
        "Let's find out how significant these results are. We can run t-tests on the different runtimes for movies (not on series, there are no different runtimes here)"
      ],
      "metadata": {
        "id": "DVZ7aKXLLlip"
      }
    },
    {
      "cell_type": "code",
      "source": [
        "# 4 t-tests, seeing if each runtime's imdb reviews are significantly different\n",
        "# from the all runtime imdb reviews\n",
        "\n",
        "all_reviews = movie_runtimes[0] + movie_runtimes[1] + movie_runtimes[2] + movie_runtimes[3]\n",
        "ttests = [stats.ttest_ind(all_reviews, movie_runtimes[i]) for i in range(4)]\n",
        "\n",
        "for i in range(4):\n",
        "  print(f\"For runtime {runtime_names[i]}, the t-value is {ttests[i][0]} and the p-value is {ttests[i][1]}\")\n",
        "print(ttests)"
      ],
      "metadata": {
        "colab": {
          "base_uri": "https://localhost:8080/"
        },
        "id": "sqWwwDesLk_x",
        "outputId": "3a826a8c-5e64-4bc9-e891-ff1bb743180e"
      },
      "execution_count": 14,
      "outputs": [
        {
          "output_type": "stream",
          "name": "stdout",
          "text": [
            "For runtime < 30 minutes, the t-value is -3.5442323147590495 and the p-value is 0.0003962936464760194\n",
            "For runtime 30-60 mins, the t-value is -5.0358839611362045 and the p-value is 4.873121306265942e-07\n",
            "For runtime 1-2 hour, the t-value is 7.4809975776502595 and the p-value is 7.880220859031242e-14\n",
            "For runtime > 2 hrs, the t-value is -14.75265313573987 and the p-value is 1.169884586874494e-48\n",
            "[Ttest_indResult(statistic=-3.5442323147590495, pvalue=0.0003962936464760194), Ttest_indResult(statistic=-5.0358839611362045, pvalue=4.873121306265942e-07), Ttest_indResult(statistic=7.4809975776502595, pvalue=7.880220859031242e-14), Ttest_indResult(statistic=-14.75265313573987, pvalue=1.169884586874494e-48)]\n"
          ]
        }
      ]
    },
    {
      "cell_type": "markdown",
      "source": [
        "Time for something more complex. You know when you read a summary for a show/movie, and you know that it's just gonna be terrible? We could try to predict the IMDb score from the summary alone, using NLP techniques and a neural network."
      ],
      "metadata": {
        "id": "Y47xRYIsABs6"
      }
    },
    {
      "cell_type": "code",
      "source": [
        "# encode summary into a 512-dimensional vector, that preserves semantics and meaning\n",
        "# save in np array\n",
        "def preprocess_summary_prediction(dataframe, hub_layer):\n",
        "  summary_column = dataframe[\"Summary\"]\n",
        "  imdb_column = dataframe[\"IMDb Score\"]\n",
        "\n",
        "  # a list of imdb reviews for each entry\n",
        "  imdb_reviews = []\n",
        "\n",
        "  # a 2d numpy array of the encoded summaries\n",
        "  summary_data = []\n",
        "  \n",
        "  # process data to handle empty/bad rows\n",
        "  for i in range(len(summary_column)):\n",
        "    # print(i)\n",
        "    summary_cell = summary_column[i]\n",
        "    if not pd.isnull(summary_cell) and not pd.isnull(imdb_column[i]):\n",
        "        try:\n",
        "            # encoded_summary = hub_layer([summary_cell])\n",
        "            # summary_data.append(encoded_summary)\n",
        "            summary_data.append([summary_cell])\n",
        "            imdb_reviews.append(imdb_column[i])\n",
        "        except AttributeError:\n",
        "            continue\n",
        "\n",
        "  summary_data = np.array(summary_data)\n",
        "  imdb_reviews = np.array(imdb_reviews)/10\n",
        "  return summary_data, imdb_reviews"
      ],
      "metadata": {
        "id": "Fr9z4uGgDmvb"
      },
      "execution_count": 15,
      "outputs": []
    },
    {
      "cell_type": "code",
      "source": [
        "# preprocess data\n",
        "\n",
        "embedding = \"https://tfhub.dev/google/universal-sentence-encoder/4\"\n",
        "hub_layer = hub.KerasLayer(embedding, input_shape=[], \n",
        "                           dtype=tf.string, trainable=True)\n",
        "summary_data, imdb_reviews = preprocess_summary_prediction(series_dataframe, hub_layer)"
      ],
      "metadata": {
        "id": "3Kq5sVmTD7fy"
      },
      "execution_count": 16,
      "outputs": []
    },
    {
      "cell_type": "code",
      "source": [
        "print(summary_data.shape)"
      ],
      "metadata": {
        "colab": {
          "base_uri": "https://localhost:8080/"
        },
        "id": "wEbNXHlYEEYx",
        "outputId": "f6bd0893-0b9c-42b8-e823-5393034cf737"
      },
      "execution_count": 17,
      "outputs": [
        {
          "output_type": "stream",
          "name": "stdout",
          "text": [
            "(2414, 1)\n"
          ]
        }
      ]
    },
    {
      "cell_type": "code",
      "source": [
        "model = tf.keras.Sequential()\n",
        "# model.add()\n",
        "model.add(hub_layer)\n",
        "model.add(tf.keras.layers.Dense(16, activation='sigmoid'))\n",
        "model.add(tf.keras.layers.Dense(1, activation='relu'))\n",
        "model.summary()\n",
        "config = model.get_config() # Returns pretty much every information about your model\n",
        "print(config[\"layers\"][0][\"config\"][\"batch_input_shape\"]) # returns a tuple of width, height and channels"
      ],
      "metadata": {
        "colab": {
          "base_uri": "https://localhost:8080/"
        },
        "id": "JECl1f2FEQl_",
        "outputId": "c2b87d7b-4d30-4eef-971a-13a14d2d9d79"
      },
      "execution_count": 18,
      "outputs": [
        {
          "output_type": "stream",
          "name": "stdout",
          "text": [
            "Model: \"sequential\"\n",
            "_________________________________________________________________\n",
            " Layer (type)                Output Shape              Param #   \n",
            "=================================================================\n",
            " keras_layer (KerasLayer)    (None, 512)               256797824 \n",
            "                                                                 \n",
            " dense (Dense)               (None, 16)                8208      \n",
            "                                                                 \n",
            " dense_1 (Dense)             (None, 1)                 17        \n",
            "                                                                 \n",
            "=================================================================\n",
            "Total params: 256,806,049\n",
            "Trainable params: 256,806,049\n",
            "Non-trainable params: 0\n",
            "_________________________________________________________________\n",
            "(None,)\n"
          ]
        }
      ]
    },
    {
      "cell_type": "code",
      "source": [
        "model.compile(optimizer='adam',\n",
        "              loss=tf.keras.losses.MeanSquaredError(),\n",
        "              metrics=['accuracy'])"
      ],
      "metadata": {
        "id": "VB2S9vCrGOn6"
      },
      "execution_count": 19,
      "outputs": []
    },
    {
      "cell_type": "code",
      "source": [
        "print(imdb_reviews)\n",
        "print(summary_data)\n",
        "print(summary_data.shape)"
      ],
      "metadata": {
        "colab": {
          "base_uri": "https://localhost:8080/"
        },
        "id": "qJBJuDddG52K",
        "outputId": "6f9164ac-052a-4973-f994-33391314f67a"
      },
      "execution_count": 20,
      "outputs": [
        {
          "output_type": "stream",
          "name": "stdout",
          "text": [
            "[0.79 0.75 0.73 ... 0.84 0.8  0.68]\n",
            "[['A med student with a supernatural gift tries to cash in on his abilities by facing off against ghosts, till a wandering spirit brings romance instead.']\n",
            " ['A group of social welfare workers led by their new director tries to provide necessary aid to people struggling with various problems.']\n",
            " ['The girls on Oarai’s tankery team look forward to finishing out the school year in peace, but before they know it, theyre back on the battlefield.']\n",
            " ...\n",
            " ['Stargate Command roars into action when Jack ONeill and his crew find a Stargates map that lets them combat alien maneuvers all across the galaxy.']\n",
            " ['A talented young goalkeeper tries to revive his schools lackluster team in this anime series based on the hit manga and video game.']\n",
            " ['Madagascar goes wild with holiday spirit in this set of Valentines Day and Christmas-themed tales featuring everyones favorite animal characters.']]\n",
            "(2414, 1)\n"
          ]
        }
      ]
    },
    {
      "cell_type": "code",
      "source": [
        "X_train, X_test, y_train, y_test = train_test_split(\n",
        "    summary_data, imdb_reviews, test_size=.2, random_state=101)\n",
        "# print(X_train.shape)\n",
        "# print(X_test.shape)\n",
        "\n",
        "X_train, X_validation, y_train, y_validation = train_test_split(\n",
        "    X_train, y_train, test_size=.2, random_state=101)\n",
        "\n",
        "print(X_train.shape)\n",
        "print(X_validation.shape)\n",
        "print(X_test.shape)\n",
        "\n",
        "y_train = np.array(y_train).astype('float32')\n",
        "y_test = np.array(y_test).astype('float32')\n",
        "y_validation = np.array(y_validation).astype('float32')\n",
        "\n",
        "print(y_train.shape)\n",
        "print(y_test.shape)\n",
        "print(y_validation.shape)\n"
      ],
      "metadata": {
        "colab": {
          "base_uri": "https://localhost:8080/"
        },
        "id": "iWyRfN_DErYz",
        "outputId": "767acb98-3179-48e1-b690-326d33481e40"
      },
      "execution_count": 21,
      "outputs": [
        {
          "output_type": "stream",
          "name": "stdout",
          "text": [
            "(1544, 1)\n",
            "(387, 1)\n",
            "(483, 1)\n",
            "(1544,)\n",
            "(483,)\n",
            "(387,)\n"
          ]
        }
      ]
    },
    {
      "cell_type": "markdown",
      "source": [
        "Train the model that has been set up so far:"
      ],
      "metadata": {
        "id": "jVEEe2-L80NE"
      }
    },
    {
      "cell_type": "code",
      "source": [
        "# history = model.fit(x=X_train, y=y_train,\n",
        "#                     epochs=3,\n",
        "#                     validation_data=(X_validation, y_validation),\n",
        "#                     verbose=1)"
      ],
      "metadata": {
        "id": "v-zP-4-OI7Nb"
      },
      "execution_count": 22,
      "outputs": []
    },
    {
      "cell_type": "code",
      "source": [
        "model.save(\"series_summary_imdb.h5\")"
      ],
      "metadata": {
        "id": "G-2VYwHbSzv6"
      },
      "execution_count": 23,
      "outputs": []
    },
    {
      "cell_type": "markdown",
      "source": [
        "OK. This model is kind of shit, ngl. Maybe a movie summary doesn't have much to do with its IMDb score."
      ],
      "metadata": {
        "id": "H4LhJ61R9t70"
      }
    },
    {
      "cell_type": "markdown",
      "source": [
        "The quality of a movie is not solely based upon its IMDb Score. IMDb is meant to represent what a general audience thinks of a movie. What about the critical reception of a movie? Rotten Tomatoes is typically a better gauge of how actual movie critics feel.\n",
        "\n",
        "We should make a model to predict what the difference in IMDb score and Rotten Tomatoes score will be."
      ],
      "metadata": {
        "id": "svXepfuH83Vt"
      }
    },
    {
      "cell_type": "code",
      "source": [
        "# since I'm lazy, just going to alter the dataframe and change IMDb score to IMDb - Rotten_Tomatoes/10\n",
        "def get_altered_dataframe(dataframe):\n",
        "  imdb = dataframe[\"IMDb Score\"]\n",
        "  rt = dataframe[\"Rotten Tomatoes Score\"]\n",
        "  altered_dataframe = dataframe.copy(deep=True)\n",
        "  altered_dataframe[\"IMDb Score\"] = imdb - rt/10\n",
        "  return altered_dataframe\n",
        "\n",
        "# print(get_altered_dataframe(movie_dataframe)[\"IMDb Score\"])\n"
      ],
      "metadata": {
        "id": "p5UHLq9E8wK7"
      },
      "execution_count": 24,
      "outputs": []
    },
    {
      "cell_type": "markdown",
      "source": [
        "Re-running the genre multiple regression with the difference in reviews as the dependent variable."
      ],
      "metadata": {
        "id": "XX5EAse4Y1CU"
      }
    },
    {
      "cell_type": "code",
      "source": [
        "altered_movie_dataframe = get_altered_dataframe(movie_dataframe)\n",
        "altered_series_dataframe = get_altered_dataframe(series_dataframe)\n",
        "# params,sd_b,ts_b,p_values, genre_list = show_genre_regression_results(altered_series_dataframe)\n",
        "# alpha = .05\n",
        "# for i in range(1, len(p_values)):\n",
        "#   if p_values[i] < alpha:\n",
        "#     print(f\"Genre {genre_list[i-1]} is statistically significant at t-score of {ts_b[i]}. \" + \n",
        "#           f\"It's presence corresponds to a {params[i]*10} change in predicted review difference.\")"
      ],
      "metadata": {
        "id": "KYeGnc5-Qx2N"
      },
      "execution_count": 25,
      "outputs": []
    },
    {
      "cell_type": "markdown",
      "source": [
        "Re-running the runtime analysis with review difference as dependent variable"
      ],
      "metadata": {
        "id": "W0FxNQpAY9QP"
      }
    },
    {
      "cell_type": "code",
      "source": [
        "altered_movie_runtimes = runtime_stratification(altered_series_dataframe)\n",
        "\n",
        "all_reviews = altered_movie_runtimes[0] + altered_movie_runtimes[1] \\\n",
        "  + altered_movie_runtimes[2] + altered_movie_runtimes[3]\n",
        "ttests = [stats.ttest_ind(all_reviews, altered_movie_runtimes[i]) for i in range(4)]\n",
        "print()\n",
        "runtime_names = [\"< 30 minutes\", \"30-60 mins\", \"1-2 hour\", \"> 2 hrs\"]\n",
        "for i in range(4):\n",
        "  print(f\"For runtime {runtime_names[i]}, the t-value is {ttests[i][0]} and the p-value is {ttests[i][1]}\")\n",
        "# print(ttests)\n",
        "\n",
        "overlap_runtime_histograms(altered_movie_runtimes, axis_range=(-8, 8))"
      ],
      "metadata": {
        "colab": {
          "base_uri": "https://localhost:8080/",
          "height": 486
        },
        "id": "AFO5P33PW6o0",
        "outputId": "a3f9b989-ed8b-4319-8851-a3ba3dfa23d5"
      },
      "execution_count": 26,
      "outputs": [
        {
          "output_type": "stream",
          "name": "stdout",
          "text": [
            "For runtime < 30 minutes, average IMDb score is 0.14090909090909087, variance in IMDb score is 3.9886511216056673\n",
            "No entries have runtime 30-60 mins\n",
            "No entries have runtime 1-2 hour\n",
            "No entries have runtime > 2 hrs\n",
            "\n",
            "For runtime < 30 minutes, the t-value is 0.0 and the p-value is 1.0\n",
            "For runtime 30-60 mins, the t-value is nan and the p-value is nan\n",
            "For runtime 1-2 hour, the t-value is nan and the p-value is nan\n",
            "For runtime > 2 hrs, the t-value is nan and the p-value is nan\n"
          ]
        },
        {
          "output_type": "stream",
          "name": "stderr",
          "text": [
            "/usr/local/lib/python3.7/dist-packages/numpy/lib/histograms.py:906: RuntimeWarning: invalid value encountered in true_divide\n",
            "  return n/db/n.sum(), bin_edges\n"
          ]
        },
        {
          "output_type": "display_data",
          "data": {
            "text/plain": [
              "<Figure size 432x288 with 1 Axes>"
            ],
            "image/png": "[encoded data removed]"
          },
          "metadata": {
            "needs_background": "light"
          }
        }
      ]
    },
    {
      "cell_type": "code",
      "source": [
        "model = tf.keras.Sequential()\n",
        "# model.add()\n",
        "model.add(hub_layer)\n",
        "model.add(tf.keras.layers.Dense(16, activation='sigmoid'))\n",
        "model.add(tf.keras.layers.Dense(1, activation='relu'))\n",
        "model.summary()\n",
        "\n",
        "model.compile(optimizer='adam',\n",
        "              loss=tf.keras.losses.MeanSquaredError(),\n",
        "              metrics=['mae'])"
      ],
      "metadata": {
        "colab": {
          "base_uri": "https://localhost:8080/"
        },
        "id": "Iv8-saYSZE4w",
        "outputId": "bccd5fd2-13dd-49ce-f964-b668f59b5fbf"
      },
      "execution_count": 27,
      "outputs": [
        {
          "output_type": "stream",
          "name": "stdout",
          "text": [
            "Model: \"sequential_1\"\n",
            "_________________________________________________________________\n",
            " Layer (type)                Output Shape              Param #   \n",
            "=================================================================\n",
            " keras_layer (KerasLayer)    (None, 512)               256797824 \n",
            "                                                                 \n",
            " dense_2 (Dense)             (None, 16)                8208      \n",
            "                                                                 \n",
            " dense_3 (Dense)             (None, 1)                 17        \n",
            "                                                                 \n",
            "=================================================================\n",
            "Total params: 256,806,049\n",
            "Trainable params: 256,806,049\n",
            "Non-trainable params: 0\n",
            "_________________________________________________________________\n"
          ]
        }
      ]
    },
    {
      "cell_type": "code",
      "source": [
        "summary_data, imdb_reviews = preprocess_summary_prediction(altered_series_dataframe, hub_layer)\n",
        "\n",
        "X_train, X_test, y_train, y_test = train_test_split(\n",
        "    summary_data, imdb_reviews, test_size=.2, random_state=101)\n",
        "# print(X_train.shape)\n",
        "# print(X_test.shape)\n",
        "\n",
        "X_train, X_validation, y_train, y_validation = train_test_split(\n",
        "    X_train, y_train, test_size=.2, random_state=101)\n",
        "\n",
        "print(X_train.shape)\n",
        "print(X_validation.shape)\n",
        "print(X_test.shape)\n",
        "\n",
        "y_train = np.array(y_train).astype('float32')\n",
        "y_test = np.array(y_test).astype('float32')\n",
        "y_validation = np.array(y_validation).astype('float32')\n",
        "\n",
        "print(y_train.shape)\n",
        "print(y_test.shape)\n",
        "print(y_validation.shape)\n"
      ],
      "metadata": {
        "colab": {
          "base_uri": "https://localhost:8080/"
        },
        "id": "RaWwTwgtZU0b",
        "outputId": "e2b1d1e2-e8b0-4939-9468-773094b8148a"
      },
      "execution_count": 28,
      "outputs": [
        {
          "output_type": "stream",
          "name": "stdout",
          "text": [
            "(98, 1)\n",
            "(25, 1)\n",
            "(31, 1)\n",
            "(98,)\n",
            "(31,)\n",
            "(25,)\n"
          ]
        }
      ]
    },
    {
      "cell_type": "code",
      "source": [
        "# history = model.fit(x=X_train, y=y_train,\n",
        "#                     epochs=3,\n",
        "#                     validation_data=(X_validation, y_validation),\n",
        "#                     verbose=1)"
      ],
      "metadata": {
        "id": "TGV8Xm85Zdf-"
      },
      "execution_count": 29,
      "outputs": []
    },
    {
      "cell_type": "code",
      "source": [
        "model.save(\"series_summary_imdb-rt.h5\")"
      ],
      "metadata": {
        "id": "SZEW8URNUVlv"
      },
      "execution_count": 30,
      "outputs": []
    },
    {
      "cell_type": "code",
      "source": [
        "def summary_analysis(dataframe, savename, epochs=10):\n",
        "  model = tf.keras.Sequential()\n",
        "  # model.add()\n",
        "  model.add(hub_layer)\n",
        "  model.add(tf.keras.layers.Dense(16, activation='sigmoid'))\n",
        "  model.add(tf.keras.layers.Dense(1, activation='relu'))\n",
        "  model.summary()\n",
        "\n",
        "  model.compile(optimizer='adam',\n",
        "                loss=tf.keras.losses.MeanSquaredError(),\n",
        "                metrics=['mae'])\n",
        "  \n",
        "  summary_data, imdb_reviews = preprocess_summary_prediction(dataframe, hub_layer)\n",
        "\n",
        "  X_train, X_validation, y_train, y_validation = train_test_split(\n",
        "      summary_data, imdb_reviews, test_size=.2, random_state=101)\n",
        "  # print(X_train.shape)\n",
        "  # print(X_test.shape)\n",
        "\n",
        "  y_train = np.array(y_train).astype('float32')\n",
        "  y_validation = np.array(y_validation).astype('float32')\n",
        "\n",
        "  history = model.fit(x=X_train, y=y_train,\n",
        "                    epochs=epochs,\n",
        "                    validation_data=(X_validation, y_validation),\n",
        "                    verbose=1)\n",
        "  \n",
        "  model.save(savename)\n"
      ],
      "metadata": {
        "id": "rsQzpoHG90Zz"
      },
      "execution_count": 31,
      "outputs": []
    },
    {
      "cell_type": "code",
      "source": [
        "summary_analysis(movie_dataframe, \"summary_nns/movie_imdb.h5\")\n",
        "summary_analysis(series_dataframe, \"summary_nns/series_imdb.h5\")\n",
        "summary_analysis(altered_movie_dataframe, \"summary_nns/movie_imdb-rt.h5\")\n",
        "summary_analysis(altered_series_dataframe, \"summary_nns/series_imdb-rt.h5\")"
      ],
      "metadata": {
        "colab": {
          "base_uri": "https://localhost:8080/"
        },
        "id": "VToEYvWh-lDh",
        "outputId": "7811040a-8ebc-4cd0-e06f-937ab5dcb06a"
      },
      "execution_count": 32,
      "outputs": [
        {
          "output_type": "stream",
          "name": "stdout",
          "text": [
            "Model: \"sequential_2\"\n",
            "_________________________________________________________________\n",
            " Layer (type)                Output Shape              Param #   \n",
            "=================================================================\n",
            " keras_layer (KerasLayer)    (None, 512)               256797824 \n",
            "                                                                 \n",
            " dense_4 (Dense)             (None, 16)                8208      \n",
            "                                                                 \n",
            " dense_5 (Dense)             (None, 1)                 17        \n",
            "                                                                 \n",
            "=================================================================\n",
            "Total params: 256,806,049\n",
            "Trainable params: 256,806,049\n",
            "Non-trainable params: 0\n",
            "_________________________________________________________________\n",
            "Epoch 1/10\n",
            "175/175 [==============================] - 396s 2s/step - loss: 0.0077 - mae: 0.0675 - val_loss: 0.0069 - val_mae: 0.0650\n",
            "Epoch 2/10\n",
            "175/175 [==============================] - 391s 2s/step - loss: 0.0051 - mae: 0.0537 - val_loss: 0.0074 - val_mae: 0.0655\n",
            "Epoch 3/10\n",
            "175/175 [==============================] - 395s 2s/step - loss: 0.0019 - mae: 0.0319 - val_loss: 0.0073 - val_mae: 0.0656\n",
            "Epoch 4/10\n",
            "175/175 [==============================] - 387s 2s/step - loss: 9.6946e-04 - mae: 0.0238 - val_loss: 0.0075 - val_mae: 0.0671\n",
            "Epoch 5/10\n",
            "175/175 [==============================] - 385s 2s/step - loss: 4.9973e-04 - mae: 0.0171 - val_loss: 0.0074 - val_mae: 0.0658\n",
            "Epoch 6/10\n",
            "175/175 [==============================] - 382s 2s/step - loss: 3.2544e-04 - mae: 0.0135 - val_loss: 0.0074 - val_mae: 0.0658\n",
            "Epoch 7/10\n",
            "175/175 [==============================] - 380s 2s/step - loss: 2.6012e-04 - mae: 0.0120 - val_loss: 0.0073 - val_mae: 0.0663\n",
            "Epoch 8/10\n",
            "175/175 [==============================] - 386s 2s/step - loss: 2.2456e-04 - mae: 0.0113 - val_loss: 0.0073 - val_mae: 0.0657\n",
            "Epoch 9/10\n",
            "175/175 [==============================] - 385s 2s/step - loss: 2.0227e-04 - mae: 0.0107 - val_loss: 0.0073 - val_mae: 0.0660\n",
            "Epoch 10/10\n",
            "175/175 [==============================] - 379s 2s/step - loss: 1.8520e-04 - mae: 0.0103 - val_loss: 0.0072 - val_mae: 0.0653\n",
            "Model: \"sequential_3\"\n",
            "_________________________________________________________________\n",
            " Layer (type)                Output Shape              Param #   \n",
            "=================================================================\n",
            " keras_layer (KerasLayer)    (None, 512)               256797824 \n",
            "                                                                 \n",
            " dense_6 (Dense)             (None, 16)                8208      \n",
            "                                                                 \n",
            " dense_7 (Dense)             (None, 1)                 17        \n",
            "                                                                 \n",
            "=================================================================\n",
            "Total params: 256,806,049\n",
            "Trainable params: 256,806,049\n",
            "Non-trainable params: 0\n",
            "_________________________________________________________________\n",
            "Epoch 1/10\n",
            "61/61 [==============================] - 143s 2s/step - loss: 0.0051 - mae: 0.0568 - val_loss: 0.0048 - val_mae: 0.0560\n",
            "Epoch 2/10\n",
            "61/61 [==============================] - 135s 2s/step - loss: 0.0038 - mae: 0.0483 - val_loss: 0.0053 - val_mae: 0.0582\n",
            "Epoch 3/10\n",
            "61/61 [==============================] - 136s 2s/step - loss: 0.0023 - mae: 0.0368 - val_loss: 0.0061 - val_mae: 0.0626\n",
            "Epoch 4/10\n",
            "61/61 [==============================] - 135s 2s/step - loss: 8.0464e-04 - mae: 0.0202 - val_loss: 0.0058 - val_mae: 0.0608\n",
            "Epoch 5/10\n",
            "61/61 [==============================] - 138s 2s/step - loss: 3.3670e-04 - mae: 0.0127 - val_loss: 0.0058 - val_mae: 0.0601\n",
            "Epoch 6/10\n",
            "61/61 [==============================] - 134s 2s/step - loss: 2.1284e-04 - mae: 0.0103 - val_loss: 0.0058 - val_mae: 0.0602\n",
            "Epoch 7/10\n",
            "61/61 [==============================] - 134s 2s/step - loss: 1.7547e-04 - mae: 0.0096 - val_loss: 0.0058 - val_mae: 0.0608\n",
            "Epoch 8/10\n",
            "61/61 [==============================] - 132s 2s/step - loss: 1.3580e-04 - mae: 0.0085 - val_loss: 0.0057 - val_mae: 0.0599\n",
            "Epoch 9/10\n",
            "61/61 [==============================] - 138s 2s/step - loss: 1.1132e-04 - mae: 0.0077 - val_loss: 0.0057 - val_mae: 0.0597\n",
            "Epoch 10/10\n",
            "61/61 [==============================] - 136s 2s/step - loss: 9.9041e-05 - mae: 0.0075 - val_loss: 0.0058 - val_mae: 0.0602\n",
            "Model: \"sequential_4\"\n",
            "_________________________________________________________________\n",
            " Layer (type)                Output Shape              Param #   \n",
            "=================================================================\n",
            " keras_layer (KerasLayer)    (None, 512)               256797824 \n",
            "                                                                 \n",
            " dense_8 (Dense)             (None, 16)                8208      \n",
            "                                                                 \n",
            " dense_9 (Dense)             (None, 1)                 17        \n",
            "                                                                 \n",
            "=================================================================\n",
            "Total params: 256,806,049\n",
            "Trainable params: 256,806,049\n",
            "Non-trainable params: 0\n",
            "_________________________________________________________________\n",
            "Epoch 1/10\n",
            "132/132 [==============================] - 296s 2s/step - loss: 0.2991 - mae: 0.3871 - val_loss: 0.0408 - val_mae: 0.1659\n",
            "Epoch 2/10\n",
            "132/132 [==============================] - 297s 2s/step - loss: 0.0383 - mae: 0.1613 - val_loss: 0.0370 - val_mae: 0.1588\n",
            "Epoch 3/10\n",
            "132/132 [==============================] - 288s 2s/step - loss: 0.0261 - mae: 0.1298 - val_loss: 0.0401 - val_mae: 0.1626\n",
            "Epoch 4/10\n",
            "132/132 [==============================] - 290s 2s/step - loss: 0.0176 - mae: 0.1019 - val_loss: 0.0374 - val_mae: 0.1577\n",
            "Epoch 5/10\n",
            "132/132 [==============================] - 283s 2s/step - loss: 0.0160 - mae: 0.0935 - val_loss: 0.0376 - val_mae: 0.1581\n",
            "Epoch 6/10\n",
            "132/132 [==============================] - 290s 2s/step - loss: 0.0156 - mae: 0.0905 - val_loss: 0.0372 - val_mae: 0.1574\n",
            "Epoch 7/10\n",
            "132/132 [==============================] - 296s 2s/step - loss: 0.0154 - mae: 0.0887 - val_loss: 0.0376 - val_mae: 0.1582\n",
            "Epoch 8/10\n",
            "132/132 [==============================] - 298s 2s/step - loss: 0.0153 - mae: 0.0869 - val_loss: 0.0376 - val_mae: 0.1585\n",
            "Epoch 9/10\n",
            "132/132 [==============================] - 292s 2s/step - loss: 0.0152 - mae: 0.0865 - val_loss: 0.0371 - val_mae: 0.1573\n",
            "Epoch 10/10\n",
            "132/132 [==============================] - 295s 2s/step - loss: 0.0151 - mae: 0.0863 - val_loss: 0.0377 - val_mae: 0.1587\n",
            "Model: \"sequential_5\"\n",
            "_________________________________________________________________\n",
            " Layer (type)                Output Shape              Param #   \n",
            "=================================================================\n",
            " keras_layer (KerasLayer)    (None, 512)               256797824 \n",
            "                                                                 \n",
            " dense_10 (Dense)            (None, 16)                8208      \n",
            "                                                                 \n",
            " dense_11 (Dense)            (None, 1)                 17        \n",
            "                                                                 \n",
            "=================================================================\n",
            "Total params: 256,806,049\n",
            "Trainable params: 256,806,049\n",
            "Non-trainable params: 0\n",
            "_________________________________________________________________\n",
            "Epoch 1/10\n",
            "4/4 [==============================] - 14s 2s/step - loss: 0.7294 - mae: 0.8284 - val_loss: 0.4927 - val_mae: 0.6751\n",
            "Epoch 2/10\n",
            "4/4 [==============================] - 9s 2s/step - loss: 0.4003 - mae: 0.5996 - val_loss: 0.2575 - val_mae: 0.4704\n",
            "Epoch 3/10\n",
            "4/4 [==============================] - 9s 2s/step - loss: 0.2063 - mae: 0.4164 - val_loss: 0.1250 - val_mae: 0.3054\n",
            "Epoch 4/10\n",
            "4/4 [==============================] - 9s 2s/step - loss: 0.1019 - mae: 0.2830 - val_loss: 0.0598 - val_mae: 0.1926\n",
            "Epoch 5/10\n",
            "4/4 [==============================] - 9s 2s/step - loss: 0.0546 - mae: 0.1991 - val_loss: 0.0375 - val_mae: 0.1551\n",
            "Epoch 6/10\n",
            "4/4 [==============================] - 9s 2s/step - loss: 0.0406 - mae: 0.1596 - val_loss: 0.0356 - val_mae: 0.1578\n",
            "Epoch 7/10\n",
            "4/4 [==============================] - 9s 2s/step - loss: 0.0411 - mae: 0.1558 - val_loss: 0.0353 - val_mae: 0.1574\n",
            "Epoch 8/10\n",
            "4/4 [==============================] - 9s 2s/step - loss: 0.0413 - mae: 0.1560 - val_loss: 0.0353 - val_mae: 0.1574\n",
            "Epoch 9/10\n",
            "4/4 [==============================] - 9s 2s/step - loss: 0.0413 - mae: 0.1560 - val_loss: 0.0353 - val_mae: 0.1574\n",
            "Epoch 10/10\n",
            "4/4 [==============================] - 9s 2s/step - loss: 0.0413 - mae: 0.1560 - val_loss: 0.0353 - val_mae: 0.1574\n"
          ]
        }
      ]
    }
  ]
}