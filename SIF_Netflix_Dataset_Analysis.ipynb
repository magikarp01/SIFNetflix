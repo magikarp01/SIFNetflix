{
  "nbformat": 4,
  "nbformat_minor": 0,
  "metadata": {
    "colab": {
      "provenance": [],
      "collapsed_sections": [],
      "authorship_tag": "ABX9TyMfCwacwgw+QwgfxKwZBhFL",
      "include_colab_link": true
    },
    "kernelspec": {
      "name": "python3",
      "display_name": "Python 3"
    },
    "language_info": {
      "name": "python"
    }
  },
  "cells": [
    {
      "cell_type": "markdown",
      "metadata": {
        "id": "view-in-github",
        "colab_type": "text"
      },
      "source": [
        "<a href=\"https://colab.research.google.com/github/magikarp01/SIFNetflix/blob/master/SIF_Netflix_Dataset_Analysis.ipynb\" target=\"_parent\"><img src=\"https://colab.research.google.com/assets/colab-badge.svg\" alt=\"Open In Colab\"/></a>"
      ]
    },
    {
      "cell_type": "markdown",
      "source": [
        "A notebook with code for predicting the quality of a movie or series. The notebook uses multiple regression techniques and neural networks in order to handle different kinds of predictive input.\n",
        "\n"
      ],
      "metadata": {
        "id": "x4WjUEjCooQQ"
      }
    },
    {
      "cell_type": "code",
      "execution_count": 12,
      "metadata": {
        "id": "-SW5MmkuoWBW"
      },
      "outputs": [],
      "source": [
        "import numpy as np\n",
        "import pandas as pd\n",
        "import tensorflow as tf\n",
        "import tensorflow_hub as hub\n",
        "import math\n",
        "import scipy\n",
        "from scipy import stats\n",
        "\n",
        "from sklearn.model_selection import train_test_split\n",
        "from sklearn.linear_model import LinearRegression\n",
        "from sklearn.metrics import mean_squared_error, mean_absolute_error\n",
        "from sklearn import preprocessing\n",
        "\n",
        "import statsmodels.api as sm"
      ]
    },
    {
      "cell_type": "code",
      "source": [
        "# read dataset into dataframe\n",
        "df = pd.read_excel(\"Netflix Dataset Latest 2021.xlsx\")"
      ],
      "metadata": {
        "id": "A50SlbX8pfwV"
      },
      "execution_count": 3,
      "outputs": []
    },
    {
      "cell_type": "code",
      "source": [
        "# stratify data by movie or series, since they are judged very differently\n",
        "movie_dataframe = df[df[\"Series or Movie\"] == \"Movie\"].reset_index()\n",
        "series_dataframe = df[df[\"Series or Movie\"] == \"Series\"].reset_index()"
      ],
      "metadata": {
        "id": "7safIHyLrsXM"
      },
      "execution_count": 4,
      "outputs": []
    },
    {
      "cell_type": "markdown",
      "source": [
        "First, a multiple regression between the genres a movie/series is part of and the IMDb score"
      ],
      "metadata": {
        "id": "r36_5fSdtEdp"
      }
    },
    {
      "cell_type": "code",
      "source": [
        "# functional because want to be able to work with either movie_dataframe or series_dataframe\n",
        "# returns x_data, y_data\n",
        "# x_data is 2d np array of whether each movie/series has a particular genre\n",
        "# y_data is 1d np array of imdb reviews\n",
        "def preprocess_genre_regression(dataframe):\n",
        "  genre_column = dataframe[\"Genre\"]\n",
        "  imdb_column = dataframe[\"IMDb Score\"]\n",
        "  # a list of the (string) genres\n",
        "  genre_list = []\n",
        "\n",
        "  # a list of imdb reviews for each entry\n",
        "  imdb_reviews = []\n",
        "\n",
        "  # a list of the genres for each entry\n",
        "  genre_data = []\n",
        "  \n",
        "  # process data to handle empty/bad rows\n",
        "  for i in range(len(genre_column)):\n",
        "    genre_cell = genre_column[i]\n",
        "    if not pd.isnull(genre_cell) and not pd.isnull(imdb_column[i]):\n",
        "        try:\n",
        "            cell_genres = genre_cell.split(\", \")\n",
        "            genre_data.append(cell_genres)\n",
        "            imdb_reviews.append(imdb_column[i])\n",
        "        except AttributeError:\n",
        "            continue\n",
        "\n",
        "        for genre in cell_genres:\n",
        "            if genre not in genre_list:\n",
        "                genre_list.append(genre)\n",
        "\n",
        "  # print(genre_list)\n",
        "  genredict = {k: v for v, k in enumerate(genre_list)}\n",
        "\n",
        "  # x_data is a 2d array, each row is an array of binary entries\n",
        "  # each binary entry corresponds to if movie/series is part of a genre \n",
        "  # 0 if no and 1 if yes\n",
        "  x_data = []\n",
        "  for entry in genre_data:\n",
        "      entry_genres = [0]*len(genre_list)\n",
        "      for genre in entry:\n",
        "          entry_genres[genredict[genre]] = 1\n",
        "      x_data.append(entry_genres)\n",
        "  x_data = np.array(x_data)\n",
        "  y_data = np.array(imdb_reviews)/10\n",
        "\n",
        "  return x_data, y_data, genre_list\n"
      ],
      "metadata": {
        "id": "Clu_zcZwsqJW"
      },
      "execution_count": 65,
      "outputs": []
    },
    {
      "cell_type": "code",
      "source": [
        "# Perform the multiple regression on the processed data from previous function\n",
        "def train_genre_regression(x_data, y_data, test_size=0.2, random_state=101, print_output = False):\n",
        "  X_train, X_test, y_train, y_test = train_test_split(\n",
        "    x_data, y_data, test_size=test_size, random_state=random_state)\n",
        "\n",
        "  # creating a regression model\n",
        "  model = LinearRegression()\n",
        "\n",
        "  # fitting the model\n",
        "  model.fit(X_train, y_train)\n",
        "\n",
        "  # making predictions\n",
        "  predictions = model.predict(X_test)\n",
        "\n",
        "  # model evaluation\n",
        "  print('mean_squared_error : ', mean_squared_error(y_test, predictions))\n",
        "  # print('mean_absolute_error : ', mean_absolute_error(y_test, predictions))\n",
        "  print(f'model R^2: {model.score(X_test, y_test)}')\n",
        "  # print(f'model coefficients: {model.coef_}')\n",
        "\n",
        "  if print_output:\n",
        "      for i in range(len(y_test)):\n",
        "        print(f\"predicts {predictions[i]}, actual review is {y_test[i]}\")\n",
        "\n",
        "  return model\n",
        "\n",
        "def model_output(model, genre_list):\n",
        "  # print(model.summary) \n",
        "  coef_dic = dict(zip(genre_list, model.coef_))\n",
        "  for k, v in coef_dic.items():\n",
        "      print(f\"For genre {k}, the coefficient is {v}\") "
      ],
      "metadata": {
        "id": "EA1oGB2lv8ox"
      },
      "execution_count": 66,
      "outputs": []
    },
    {
      "cell_type": "code",
      "source": [
        "# put it all together\n",
        "def genre_regression(dataframe, verbose=False):\n",
        "  x_data, y_data, genre_list = preprocess_genre_regression(dataframe)\n",
        "  model = train_genre_regression(x_data, y_data)\n",
        "  if verbose:\n",
        "    model_output(model, genre_list)\n",
        "  return model\n",
        "\n",
        "genre_regression(movie_dataframe, verbose=True)\n",
        "# genre_regression(series_dataframe)"
      ],
      "metadata": {
        "colab": {
          "base_uri": "https://localhost:8080/"
        },
        "id": "WJF7xXlJwf8m",
        "outputId": "ac27068c-875b-4e7c-915a-c2d5f6a5bded"
      },
      "execution_count": 67,
      "outputs": [
        {
          "output_type": "stream",
          "name": "stdout",
          "text": [
            "mean_squared_error :  0.006606608489484805\n",
            "model R^2: 0.16982544975353442\n",
            "For genre Comedy, the coefficient is -0.01602164088416835\n",
            "For genre Romance, the coefficient is -0.012631617961811675\n",
            "For genre Drama, the coefficient is 0.02420954061188718\n",
            "For genre Crime, the coefficient is 0.009489141835484157\n",
            "For genre Fantasy, the coefficient is -0.0009438763731072829\n",
            "For genre Mystery, the coefficient is 0.003640220577919371\n",
            "For genre Thriller, the coefficient is -0.02632799540434819\n",
            "For genre Short, the coefficient is 0.03233820605460993\n",
            "For genre Action, the coefficient is -0.0168781347073299\n",
            "For genre Adventure, the coefficient is -0.005170742785502887\n",
            "For genre Sci-Fi, the coefficient is -0.004478045178016285\n",
            "For genre Music, the coefficient is -0.0016972659305075255\n",
            "For genre Family, the coefficient is -0.0403017058918589\n",
            "For genre Biography, the coefficient is 0.005034468589700726\n",
            "For genre Animation, the coefficient is 0.061885380612337226\n",
            "For genre War, the coefficient is 0.017050789309623778\n",
            "For genre History, the coefficient is 0.0006448594400463618\n",
            "For genre Documentary, the coefficient is 0.051214848208316996\n",
            "For genre Horror, the coefficient is -0.053653312149320224\n",
            "For genre Film-Noir, the coefficient is -0.01566806423306612\n",
            "For genre Sport, the coefficient is -0.007013205859832348\n",
            "For genre Western, the coefficient is 0.018468744498374007\n",
            "For genre Musical, the coefficient is 0.00480803522144968\n",
            "For genre Reality-TV, the coefficient is 0.03670262280995738\n",
            "For genre Adult, the coefficient is 0.07433424077176892\n",
            "For genre News, the coefficient is 0.021186356298026846\n",
            "For genre Talk-Show, the coefficient is 0.04678157338795724\n"
          ]
        },
        {
          "output_type": "execute_result",
          "data": {
            "text/plain": [
              "LinearRegression()"
            ]
          },
          "metadata": {},
          "execution_count": 67
        }
      ]
    },
    {
      "cell_type": "code",
      "source": [
        "# finding the p-values of each coefficient\n",
        "# shamelessly copied from https://stackoverflow.com/questions/27928275/find-p-value-significance-in-scikit-learn-linearregression\n",
        "def show_genre_regression_results(dataframe, verbose=False):\n",
        "  X, y, genre_list = preprocess_genre_regression(dataframe)\n",
        "  lm = genre_regression(dataframe)\n",
        "  params = np.append(lm.intercept_,lm.coef_)\n",
        "  predictions = lm.predict(X)\n",
        "\n",
        "  newX = pd.DataFrame({\"Constant\":np.ones(len(X))}).join(pd.DataFrame(X))\n",
        "  MSE = (sum((y-predictions)**2))/(len(newX)-len(newX.columns))\n",
        "\n",
        "  # Note if you don't want to use a DataFrame replace the two lines above with\n",
        "  # newX = np.append(np.ones((len(X),1)), X, axis=1)\n",
        "  # MSE = (sum((y-predictions)**2))/(len(newX)-len(newX[0]))\n",
        "\n",
        "  var_b = MSE*(np.linalg.inv(np.dot(newX.T,newX)).diagonal())\n",
        "  sd_b = np.sqrt(var_b)\n",
        "  ts_b = params/ sd_b\n",
        "\n",
        "  # p_values =[2*(1-stats.t.cdf(np.abs(i),(len(newX)-len(newX[0])))) for i in ts_b]\n",
        "  p_values =[2*(1-stats.t.cdf(np.abs(i),len(newX))) for i in ts_b]\n",
        "\n",
        "  sd_b = np.round(sd_b,3)\n",
        "  ts_b = np.round(ts_b,3)\n",
        "  p_values = np.round(p_values,3)\n",
        "  params = np.round(params,4)\n",
        "\n",
        "  myDF3 = pd.DataFrame()\n",
        "  myDF3[\"Coefficients\"],myDF3[\"Standard Errors\"],myDF3[\"t values\"],myDF3[\"p values\"] = [params,sd_b,ts_b,p_values]\n",
        "  if verbose:\n",
        "    print(myDF3)\n",
        "  return params,sd_b,ts_b,p_values, genre_list"
      ],
      "metadata": {
        "id": "Ji9-lPCuwXLQ"
      },
      "execution_count": 68,
      "outputs": []
    },
    {
      "cell_type": "markdown",
      "source": [
        "Results of Genre Multiple Regression: which genres are statistically significant, and what correlation do the significant genres have on the predicted IMDb review?\n",
        "\n",
        "Alpha of .05 used for statistical significance"
      ],
      "metadata": {
        "id": "DAY_AR_r0TkP"
      }
    },
    {
      "cell_type": "code",
      "source": [
        "params,sd_b,ts_b,p_values, genre_list = show_genre_regression_results(movie_dataframe)\n",
        "alpha = .05\n",
        "for i in range(1, len(p_values)):\n",
        "  if p_values[i] < alpha:\n",
        "    print(f\"Genre {genre_list[i-1]} is statistically significant at t-score of {ts_b[i]}. \" + \n",
        "          f\"It's presence corresponds to a {params[i]*10} change in predicted IMDb review.\")"
      ],
      "metadata": {
        "colab": {
          "base_uri": "https://localhost:8080/"
        },
        "id": "AGWIBtDq0y0S",
        "outputId": "baf440e8-7454-4e6c-c28f-347e0fbd12c1"
      },
      "execution_count": 73,
      "outputs": [
        {
          "output_type": "stream",
          "name": "stdout",
          "text": [
            "mean_squared_error :  0.006606608489484805\n",
            "model R^2: 0.16982544975353442\n",
            "Genre Comedy is statistically significant at t-score of -6.545. It's presence corresponds to a -0.16 change in predicted IMDb review.\n",
            "Genre Romance is statistically significant at t-score of -4.742. It's presence corresponds to a -0.126 change in predicted IMDb review.\n",
            "Genre Drama is statistically significant at t-score of 10.121. It's presence corresponds to a 0.242 change in predicted IMDb review.\n",
            "Genre Crime is statistically significant at t-score of 3.146. It's presence corresponds to a 0.095 change in predicted IMDb review.\n",
            "Genre Thriller is statistically significant at t-score of -9.139. It's presence corresponds to a -0.263 change in predicted IMDb review.\n",
            "Genre Short is statistically significant at t-score of 4.092. It's presence corresponds to a 0.323 change in predicted IMDb review.\n",
            "Genre Action is statistically significant at t-score of -6.098. It's presence corresponds to a -0.16899999999999998 change in predicted IMDb review.\n",
            "Genre Family is statistically significant at t-score of -9.81. It's presence corresponds to a -0.403 change in predicted IMDb review.\n",
            "Genre Animation is statistically significant at t-score of 14.347. It's presence corresponds to a 0.619 change in predicted IMDb review.\n",
            "Genre War is statistically significant at t-score of 3.048. It's presence corresponds to a 0.171 change in predicted IMDb review.\n",
            "Genre Documentary is statistically significant at t-score of 12.049. It's presence corresponds to a 0.512 change in predicted IMDb review.\n",
            "Genre Horror is statistically significant at t-score of -13.56. It's presence corresponds to a -0.5369999999999999 change in predicted IMDb review.\n",
            "Genre Western is statistically significant at t-score of 1.982. It's presence corresponds to a 0.185 change in predicted IMDb review.\n"
          ]
        }
      ]
    },
    {
      "cell_type": "markdown",
      "source": [
        "Another model, determining whether runtime has an affect on the quality of the movie"
      ],
      "metadata": {
        "id": "yPCmu4I341Ia"
      }
    },
    {
      "cell_type": "code",
      "source": [
        "def runtime_stratification(dataframe):\n",
        "  runtime_column = dataframe[\"Runtime\"]\n",
        "  imdb_column = dataframe[\"IMDb Score\"]\n",
        "  \n",
        "  # runtime_data is list of 4 arrays, each array has all imdb reviews for one runtime\n",
        "  # 0 corresponding to <30 mins, 1 for 30-60 mins, 2 for 1-2 hour, 3 for > 2 hrs\n",
        "\n",
        "  runtime_data = [[], [], [], []]\n",
        "  # possible values in the runtime cell\n",
        "  possible_runtimes = {\"< 30 minutes\": 0, \"30-60 mins\": 1, \"1-2 hour\": 2, \"> 2 hrs\": 3}\n",
        "  # process data to handle empty/bad rows\n",
        "  for i in range(len(runtime_column)):\n",
        "    runtime_cell = runtime_column[i]\n",
        "    if not pd.isnull(runtime_cell) and not pd.isnull(imdb_column[i]):\n",
        "        try:\n",
        "            runtime_data[possible_runtimes[runtime_cell]].append(imdb_column[i])\n",
        "        except AttributeError:\n",
        "            continue\n",
        "\n",
        "  runtime_names = list(possible_runtimes.keys())\n",
        "  for i in range(4):\n",
        "    runtime_data[i] = [x for x in runtime_data[i] if np.isnan(x) == False]\n",
        "\n",
        "  for i in range(4):\n",
        "    if len(runtime_data[i]) == 0:\n",
        "      print(f\"No entries have runtime {runtime_names[i]}\")\n",
        "    else:\n",
        "      print(f\"For runtime {runtime_names[i]}, average IMDb score is {np.average(runtime_data[i])}, \" +\n",
        "            f\"variance in IMDb score is {np.var(runtime_data[i])}\")\n",
        "\n",
        "  return runtime_data\n"
      ],
      "metadata": {
        "id": "KWqVZH7A40Ll"
      },
      "execution_count": 38,
      "outputs": []
    },
    {
      "cell_type": "code",
      "source": [
        "print(\"Movies:\")\n",
        "movie_runtimes = runtime_stratification(movie_dataframe)\n",
        "print()\n",
        "print(\"Series:\")\n",
        "nan_runtime = runtime_stratification(series_dataframe)"
      ],
      "metadata": {
        "colab": {
          "base_uri": "https://localhost:8080/"
        },
        "id": "okZA7r0KGgio",
        "outputId": "5878f66f-5173-4ee4-8798-cd898b82e9af"
      },
      "execution_count": 40,
      "outputs": [
        {
          "output_type": "stream",
          "name": "stdout",
          "text": [
            "Movies:\n",
            "For runtime < 30 minutes, average IMDb score is 7.076344086021504, variance in IMDb score is 0.46417158052954105\n",
            "For runtime 30-60 mins, average IMDb score is 7.133088235294117, variance in IMDb score is 0.3467728157439447\n",
            "For runtime 1-2 hour, average IMDb score is 6.632261768082665, variance in IMDb score is 0.7887142491200274\n",
            "For runtime > 2 hrs, average IMDb score is 7.1072398190045245, variance in IMDb score is 0.5618221810130247\n",
            "\n",
            "Series:\n",
            "For runtime < 30 minutes, average IMDb score is 7.543082021541011, variance in IMDb score is 0.4634711970835687\n",
            "No entries have runtime 30-60 mins\n",
            "No entries have runtime 1-2 hour\n",
            "No entries have runtime > 2 hrs\n"
          ]
        }
      ]
    },
    {
      "cell_type": "markdown",
      "source": [
        "Let's find out how significant these results are. We can run t-tests on the different runtimes for movies (not on series, there are no different runtimes here)"
      ],
      "metadata": {
        "id": "DVZ7aKXLLlip"
      }
    },
    {
      "cell_type": "code",
      "source": [
        "# 4 t-tests, seeing if each runtime's imdb reviews are significantly different\n",
        "# from the all runtime imdb reviews\n",
        "\n",
        "all_reviews = movie_runtimes[0] + movie_runtimes[1] + movie_runtimes[2] + movie_runtimes[3]\n",
        "ttests = [stats.ttest_ind(all_reviews, movie_runtimes[i]) for i in range(4)]\n",
        "\n",
        "runtime_names = [\"< 30 minutes\", \"30-60 mins\", \"1-2 hour\", \"> 2 hrs\"]\n",
        "for i in range(4):\n",
        "  print(f\"For runtime {runtime_names[i]}, the t-value is {ttests[i][0]} and the p-value is {ttests[i][1]}\")\n",
        "print(ttests)"
      ],
      "metadata": {
        "colab": {
          "base_uri": "https://localhost:8080/"
        },
        "id": "sqWwwDesLk_x",
        "outputId": "87286c31-0218-44d5-b6d5-164451dd9517"
      },
      "execution_count": 45,
      "outputs": [
        {
          "output_type": "stream",
          "name": "stdout",
          "text": [
            "For runtime < 30 minutes, the t-value is -3.5442323147590495 and the p-value is 0.0003962936464760194\n",
            "For runtime 30-60 mins, the t-value is -5.0358839611362045 and the p-value is 4.873121306265942e-07\n",
            "For runtime 1-2 hour, the t-value is 7.4809975776502595 and the p-value is 7.880220859031242e-14\n",
            "For runtime > 2 hrs, the t-value is -14.75265313573987 and the p-value is 1.169884586874494e-48\n",
            "[Ttest_indResult(statistic=-3.5442323147590495, pvalue=0.0003962936464760194), Ttest_indResult(statistic=-5.0358839611362045, pvalue=4.873121306265942e-07), Ttest_indResult(statistic=7.4809975776502595, pvalue=7.880220859031242e-14), Ttest_indResult(statistic=-14.75265313573987, pvalue=1.169884586874494e-48)]\n"
          ]
        }
      ]
    },
    {
      "cell_type": "markdown",
      "source": [
        "Time for something more complex. You know when you read a summary for a show/movie, and you know that it's just gonna be terrible? We could try to predict the IMDb score from the summary alone, using NLP techniques and a neural network."
      ],
      "metadata": {
        "id": "Y47xRYIsABs6"
      }
    },
    {
      "cell_type": "code",
      "source": [
        "# encode summary into a 512-dimensional vector, that preserves semantics and meaning\n",
        "# save in np array\n",
        "def preprocess_summary_prediction(dataframe, hub_layer):\n",
        "  summary_column = dataframe[\"Summary\"]\n",
        "  imdb_column = dataframe[\"IMDb Score\"]\n",
        "\n",
        "  # a list of imdb reviews for each entry\n",
        "  imdb_reviews = []\n",
        "\n",
        "  # a 2d numpy array of the encoded summaries\n",
        "  summary_data = []\n",
        "  \n",
        "  # process data to handle empty/bad rows\n",
        "  for i in range(len(summary_column)):\n",
        "    # print(i)\n",
        "    summary_cell = summary_column[i]\n",
        "    if not pd.isnull(summary_cell) and not pd.isnull(imdb_column[i]):\n",
        "        try:\n",
        "            # encoded_summary = hub_layer([summary_cell])\n",
        "            # summary_data.append(encoded_summary)\n",
        "            summary_data.append([summary_cell])\n",
        "            imdb_reviews.append(imdb_column[i])\n",
        "        except AttributeError:\n",
        "            continue\n",
        "\n",
        "  summary_data = np.array(summary_data)\n",
        "  imdb_reviews = np.array(imdb_reviews)/10\n",
        "  return summary_data, imdb_reviews"
      ],
      "metadata": {
        "id": "Fr9z4uGgDmvb"
      },
      "execution_count": 46,
      "outputs": []
    },
    {
      "cell_type": "code",
      "source": [
        "# preprocess data\n",
        "\n",
        "embedding = \"https://tfhub.dev/google/universal-sentence-encoder/4\"\n",
        "hub_layer = hub.KerasLayer(embedding, input_shape=[], \n",
        "                           dtype=tf.string, trainable=True)\n",
        "summary_data, imdb_reviews = preprocess_summary_prediction(movie_dataframe, hub_layer)"
      ],
      "metadata": {
        "id": "3Kq5sVmTD7fy"
      },
      "execution_count": 47,
      "outputs": []
    },
    {
      "cell_type": "code",
      "source": [
        "print(summary_data.shape)"
      ],
      "metadata": {
        "colab": {
          "base_uri": "https://localhost:8080/"
        },
        "id": "wEbNXHlYEEYx",
        "outputId": "cfba61f5-f734-4478-fb38-26404079e58d"
      },
      "execution_count": 48,
      "outputs": [
        {
          "output_type": "stream",
          "name": "stdout",
          "text": [
            "(6998, 1)\n"
          ]
        }
      ]
    },
    {
      "cell_type": "code",
      "source": [
        "model = tf.keras.Sequential()\n",
        "# model.add()\n",
        "model.add(hub_layer)\n",
        "model.add(tf.keras.layers.Dense(16, activation='sigmoid'))\n",
        "model.add(tf.keras.layers.Dense(1, activation='relu'))\n",
        "model.summary()\n",
        "config = model.get_config() # Returns pretty much every information about your model\n",
        "print(config[\"layers\"][0][\"config\"][\"batch_input_shape\"]) # returns a tuple of width, height and channels"
      ],
      "metadata": {
        "colab": {
          "base_uri": "https://localhost:8080/"
        },
        "id": "JECl1f2FEQl_",
        "outputId": "1cff9b88-2949-4366-d3fa-2abe80efd91c"
      },
      "execution_count": 49,
      "outputs": [
        {
          "output_type": "stream",
          "name": "stdout",
          "text": [
            "Model: \"sequential\"\n",
            "_________________________________________________________________\n",
            " Layer (type)                Output Shape              Param #   \n",
            "=================================================================\n",
            " keras_layer (KerasLayer)    (None, 512)               256797824 \n",
            "                                                                 \n",
            " dense (Dense)               (None, 16)                8208      \n",
            "                                                                 \n",
            " dense_1 (Dense)             (None, 1)                 17        \n",
            "                                                                 \n",
            "=================================================================\n",
            "Total params: 256,806,049\n",
            "Trainable params: 256,806,049\n",
            "Non-trainable params: 0\n",
            "_________________________________________________________________\n",
            "(None,)\n"
          ]
        }
      ]
    },
    {
      "cell_type": "code",
      "source": [
        "model.compile(optimizer='adam',\n",
        "              loss=tf.keras.losses.MeanSquaredError(),\n",
        "              metrics=['accuracy'])"
      ],
      "metadata": {
        "id": "VB2S9vCrGOn6"
      },
      "execution_count": 50,
      "outputs": []
    },
    {
      "cell_type": "code",
      "source": [
        "print(imdb_reviews)\n",
        "print(summary_data)\n",
        "print(summary_data.shape)"
      ],
      "metadata": {
        "colab": {
          "base_uri": "https://localhost:8080/"
        },
        "id": "qJBJuDddG52K",
        "outputId": "16651abe-53cc-4635-e4ab-be4e52b0bbcc"
      },
      "execution_count": 51,
      "outputs": [
        {
          "output_type": "stream",
          "name": "stdout",
          "text": [
            "[0.58 0.74 0.67 ... 0.62 0.73 0.78]\n",
            "[['When nerdy Johanna moves to London, things get out of hand when she reinvents herself as a bad-mouthed music critic to save her poverty-stricken family.']\n",
            " ['After her ex-boyfriend cons her out of a large sum of money, a former bank employee tricks a scam artist into helping her swindle him in retaliation.']\n",
            " ['An unhappily married farm worker struggling to care for her children reflects on her lost youth and the scandalous moment that cost her true love.']\n",
            " ...\n",
            " ['Computer users across the globe log onto the virtual world of Second Life. But some users lives are dramatically consumed by this alternate reality.']\n",
            " ['In an idyllic port town on Australias west coast in the summer of 1969, carefree 16-year-old Willie enjoys hanging out with his pals and wooing a beautiful singer named Rosie -- until his mom ships him back to a Catholic boarding school in Perth.']\n",
            " ['In his third show, Daniël Arends argues that good deeds are a form of self interest, and evil deeds are a hobby.']]\n",
            "(6998, 1)\n"
          ]
        }
      ]
    },
    {
      "cell_type": "code",
      "source": [
        "X_train, X_test, y_train, y_test = train_test_split(\n",
        "    summary_data, imdb_reviews, test_size=.2, random_state=101)\n",
        "# print(X_train.shape)\n",
        "# print(X_test.shape)\n",
        "\n",
        "X_train, X_validation, y_train, y_validation = train_test_split(\n",
        "    X_train, y_train, test_size=.2, random_state=101)\n",
        "\n",
        "print(X_train.shape)\n",
        "print(X_validation.shape)\n",
        "print(X_test.shape)\n",
        "\n",
        "y_train = np.array(y_train).astype('float32')\n",
        "y_test = np.array(y_test).astype('float32')\n",
        "y_validation = np.array(y_validation).astype('float32')\n",
        "\n",
        "print(y_train.shape)\n",
        "print(y_test.shape)\n",
        "print(y_validation.shape)\n"
      ],
      "metadata": {
        "colab": {
          "base_uri": "https://localhost:8080/"
        },
        "id": "iWyRfN_DErYz",
        "outputId": "ea552ccc-ab93-4578-ed2c-c03cafdcc583"
      },
      "execution_count": 52,
      "outputs": [
        {
          "output_type": "stream",
          "name": "stdout",
          "text": [
            "(4478, 1)\n",
            "(1120, 1)\n",
            "(1400, 1)\n",
            "(4478,)\n",
            "(1400,)\n",
            "(1120,)\n"
          ]
        }
      ]
    },
    {
      "cell_type": "markdown",
      "source": [
        "Train the model that has been set up so far:"
      ],
      "metadata": {
        "id": "jVEEe2-L80NE"
      }
    },
    {
      "cell_type": "code",
      "source": [
        "history = model.fit(x=X_train, y=y_train,\n",
        "                    epochs=3,\n",
        "                    validation_data=(X_validation, y_validation),\n",
        "                    verbose=1)"
      ],
      "metadata": {
        "colab": {
          "base_uri": "https://localhost:8080/"
        },
        "id": "v-zP-4-OI7Nb",
        "outputId": "5e03a6d3-b213-483b-9c75-69d2211e134e"
      },
      "execution_count": 53,
      "outputs": [
        {
          "output_type": "stream",
          "name": "stdout",
          "text": [
            "Epoch 1/3\n",
            "140/140 [==============================] - 365s 3s/step - loss: 0.4640 - accuracy: 0.0000e+00 - val_loss: 0.4624 - val_accuracy: 0.0000e+00\n",
            "Epoch 2/3\n",
            "140/140 [==============================] - 348s 2s/step - loss: 0.4640 - accuracy: 0.0000e+00 - val_loss: 0.4624 - val_accuracy: 0.0000e+00\n",
            "Epoch 3/3\n",
            "140/140 [==============================] - 342s 2s/step - loss: 0.4640 - accuracy: 0.0000e+00 - val_loss: 0.4624 - val_accuracy: 0.0000e+00\n"
          ]
        }
      ]
    },
    {
      "cell_type": "code",
      "source": [
        "model.save(\"./\")"
      ],
      "metadata": {
        "id": "G-2VYwHbSzv6"
      },
      "execution_count": 77,
      "outputs": []
    },
    {
      "cell_type": "markdown",
      "source": [
        "OK. This model is kind of shit, ngl. Maybe a movie summary doesn't have much to do with its IMDb score."
      ],
      "metadata": {
        "id": "H4LhJ61R9t70"
      }
    },
    {
      "cell_type": "markdown",
      "source": [
        "The quality of a movie is not solely based upon its IMDb Score. IMDb is meant to represent what a general audience thinks of a movie. What about the critical reception of a movie? Rotten Tomatoes is typically a better gauge of how actual movie critics feel.\n",
        "\n",
        "We should make a model to predict what the difference in IMDb score and Rotten Tomatoes score will be."
      ],
      "metadata": {
        "id": "svXepfuH83Vt"
      }
    },
    {
      "cell_type": "code",
      "source": [
        "# since I'm lazy, just going to alter the dataframe and change IMDb score to IMDb - Rotten_Tomatoes/10\n",
        "def get_altered_dataframe(dataframe):\n",
        "  imdb = dataframe[\"IMDb Score\"]\n",
        "  rt = dataframe[\"Rotten Tomatoes Score\"]\n",
        "  altered_dataframe = dataframe.copy(deep=True)\n",
        "  altered_dataframe[\"IMDb Score\"] = imdb - rt/10\n",
        "  return altered_dataframe\n",
        "\n",
        "print(get_altered_dataframe(movie_dataframe)[\"IMDb Score\"])\n"
      ],
      "metadata": {
        "colab": {
          "base_uri": "https://localhost:8080/"
        },
        "id": "p5UHLq9E8wK7",
        "outputId": "2357444b-eb1c-4686-b6a6-46bf4bf6b1fd"
      },
      "execution_count": 61,
      "outputs": [
        {
          "output_type": "stream",
          "name": "stdout",
          "text": [
            "0      -2.1\n",
            "1       NaN\n",
            "2       NaN\n",
            "3       NaN\n",
            "4       4.2\n",
            "       ... \n",
            "7005   -1.0\n",
            "7006   -0.3\n",
            "7007   -2.7\n",
            "7008    NaN\n",
            "7009    NaN\n",
            "Name: IMDb Score, Length: 7010, dtype: float64\n"
          ]
        }
      ]
    },
    {
      "cell_type": "code",
      "source": [
        "altered_movie_dataframe = get_altered_dataframe(movie_dataframe)\n",
        "params,sd_b,ts_b,p_values, genre_list = show_genre_regression_results(altered_movie_dataframe)\n",
        "alpha = .05\n",
        "for i in range(1, len(p_values)):\n",
        "  if p_values[i] < alpha:\n",
        "    print(f\"Genre {genre_list[i-1]} is statistically significant at t-score of {ts_b[i]}. \" + \n",
        "          f\"It's presence corresponds to a {params[i]*10} change in predicted review difference.\")"
      ],
      "metadata": {
        "colab": {
          "base_uri": "https://localhost:8080/"
        },
        "id": "KYeGnc5-Qx2N",
        "outputId": "3021148f-e197-4437-fe08-7c62e644ef74"
      },
      "execution_count": 74,
      "outputs": [
        {
          "output_type": "stream",
          "name": "stdout",
          "text": [
            "mean_squared_error :  0.040413250718050055\n",
            "model R^2: 0.07562761780461102\n",
            "Genre Drama is statistically significant at t-score of -8.674. It's presence corresponds to a -0.5820000000000001 change in predicted review difference.\n",
            "Genre Fantasy is statistically significant at t-score of 4.055. It's presence corresponds to a 0.393 change in predicted review difference.\n",
            "Genre Thriller is statistically significant at t-score of 6.768. It's presence corresponds to a 0.523 change in predicted review difference.\n",
            "Genre Action is statistically significant at t-score of 7.375. It's presence corresponds to a 0.553 change in predicted review difference.\n",
            "Genre Romance is statistically significant at t-score of 6.485. It's presence corresponds to a 0.481 change in predicted review difference.\n",
            "Genre Family is statistically significant at t-score of 2.724. It's presence corresponds to a 0.325 change in predicted review difference.\n",
            "Genre Documentary is statistically significant at t-score of -10.884. It's presence corresponds to a -1.514 change in predicted review difference.\n",
            "Genre Animation is statistically significant at t-score of -7.758. It's presence corresponds to a -1.0739999999999998 change in predicted review difference.\n",
            "Genre Sport is statistically significant at t-score of 4.493. It's presence corresponds to a 0.6890000000000001 change in predicted review difference.\n",
            "Genre Western is statistically significant at t-score of -2.475. It's presence corresponds to a -0.583 change in predicted review difference.\n"
          ]
        }
      ]
    }
  ]
}